{
 "cells": [
  {
   "cell_type": "markdown",
   "id": "4b7569ea",
   "metadata": {
    "papermill": {
     "duration": 0.005556,
     "end_time": "2025-05-24T16:01:42.081567",
     "exception": false,
     "start_time": "2025-05-24T16:01:42.076011",
     "status": "completed"
    },
    "tags": []
   },
   "source": [
    "# Pip Install Libraries for Metric"
   ]
  },
  {
   "cell_type": "code",
   "execution_count": 1,
   "id": "cb236c01",
   "metadata": {
    "_kg_hide-output": true,
    "execution": {
     "iopub.execute_input": "2025-05-24T16:01:42.094020Z",
     "iopub.status.busy": "2025-05-24T16:01:42.093480Z",
     "iopub.status.idle": "2025-05-24T16:05:21.015579Z",
     "shell.execute_reply": "2025-05-24T16:05:21.014277Z"
    },
    "papermill": {
     "duration": 218.93204,
     "end_time": "2025-05-24T16:05:21.019146",
     "exception": false,
     "start_time": "2025-05-24T16:01:42.087106",
     "status": "completed"
    },
    "tags": []
   },
   "outputs": [
    {
     "name": "stdout",
     "output_type": "stream",
     "text": [
      "Processing /kaggle/input/pip-install-lifelines/autograd-1.7.0-py3-none-any.whl\r\n",
      "Requirement already satisfied: numpy in /opt/conda/lib/python3.10/site-packages (from autograd==1.7.0) (1.26.4)\r\n",
      "Installing collected packages: autograd\r\n",
      "Successfully installed autograd-1.7.0\r\n",
      "Processing /kaggle/input/pip-install-lifelines/autograd-gamma-0.5.0.tar.gz\r\n",
      "  Preparing metadata (setup.py) ... \u001b[?25l-\b \bdone\r\n",
      "\u001b[?25hRequirement already satisfied: autograd>=1.2.0 in /opt/conda/lib/python3.10/site-packages (from autograd-gamma==0.5.0) (1.7.0)\r\n",
      "Requirement already satisfied: scipy>=1.2.0 in /opt/conda/lib/python3.10/site-packages (from autograd-gamma==0.5.0) (1.14.1)\r\n",
      "Requirement already satisfied: numpy in /opt/conda/lib/python3.10/site-packages (from autograd>=1.2.0->autograd-gamma==0.5.0) (1.26.4)\r\n",
      "Building wheels for collected packages: autograd-gamma\r\n",
      "  Building wheel for autograd-gamma (setup.py) ... \u001b[?25l-\b \b\\\b \bdone\r\n",
      "\u001b[?25h  Created wheel for autograd-gamma: filename=autograd_gamma-0.5.0-py3-none-any.whl size=4030 sha256=5dfd8eeee54708c144fed68edd845485bd55e95601d19e3c724d89adf66c790b\r\n",
      "  Stored in directory: /root/.cache/pip/wheels/6b/b5/e0/4c79e15c0b5f2c15ecf613c720bb20daab20a666eb67135155\r\n",
      "Successfully built autograd-gamma\r\n",
      "Installing collected packages: autograd-gamma\r\n",
      "Successfully installed autograd-gamma-0.5.0\r\n",
      "Processing /kaggle/input/pip-install-lifelines/interface_meta-1.3.0-py3-none-any.whl\r\n",
      "Installing collected packages: interface-meta\r\n",
      "Successfully installed interface-meta-1.3.0\r\n",
      "Processing /kaggle/input/pip-install-lifelines/formulaic-1.0.2-py3-none-any.whl\r\n",
      "Requirement already satisfied: interface-meta>=1.2.0 in /opt/conda/lib/python3.10/site-packages (from formulaic==1.0.2) (1.3.0)\r\n",
      "Requirement already satisfied: numpy>=1.16.5 in /opt/conda/lib/python3.10/site-packages (from formulaic==1.0.2) (1.26.4)\r\n",
      "Requirement already satisfied: pandas>=1.0 in /opt/conda/lib/python3.10/site-packages (from formulaic==1.0.2) (2.2.3)\r\n",
      "Requirement already satisfied: scipy>=1.6 in /opt/conda/lib/python3.10/site-packages (from formulaic==1.0.2) (1.14.1)\r\n",
      "Requirement already satisfied: typing-extensions>=4.2.0 in /opt/conda/lib/python3.10/site-packages (from formulaic==1.0.2) (4.12.2)\r\n",
      "Requirement already satisfied: wrapt>=1.0 in /opt/conda/lib/python3.10/site-packages (from formulaic==1.0.2) (1.16.0)\r\n",
      "Requirement already satisfied: python-dateutil>=2.8.2 in /opt/conda/lib/python3.10/site-packages (from pandas>=1.0->formulaic==1.0.2) (2.9.0.post0)\r\n",
      "Requirement already satisfied: pytz>=2020.1 in /opt/conda/lib/python3.10/site-packages (from pandas>=1.0->formulaic==1.0.2) (2024.1)\r\n",
      "Requirement already satisfied: tzdata>=2022.7 in /opt/conda/lib/python3.10/site-packages (from pandas>=1.0->formulaic==1.0.2) (2024.1)\r\n",
      "Requirement already satisfied: six>=1.5 in /opt/conda/lib/python3.10/site-packages (from python-dateutil>=2.8.2->pandas>=1.0->formulaic==1.0.2) (1.16.0)\r\n",
      "Installing collected packages: formulaic\r\n",
      "Successfully installed formulaic-1.0.2\r\n",
      "Processing /kaggle/input/pip-install-lifelines/lifelines-0.30.0-py3-none-any.whl\r\n",
      "Requirement already satisfied: numpy>=1.14.0 in /opt/conda/lib/python3.10/site-packages (from lifelines==0.30.0) (1.26.4)\r\n",
      "Requirement already satisfied: scipy>=1.7.0 in /opt/conda/lib/python3.10/site-packages (from lifelines==0.30.0) (1.14.1)\r\n",
      "Requirement already satisfied: pandas>=2.1 in /opt/conda/lib/python3.10/site-packages (from lifelines==0.30.0) (2.2.3)\r\n",
      "Requirement already satisfied: matplotlib>=3.0 in /opt/conda/lib/python3.10/site-packages (from lifelines==0.30.0) (3.7.5)\r\n",
      "Requirement already satisfied: autograd>=1.5 in /opt/conda/lib/python3.10/site-packages (from lifelines==0.30.0) (1.7.0)\r\n",
      "Requirement already satisfied: autograd-gamma>=0.3 in /opt/conda/lib/python3.10/site-packages (from lifelines==0.30.0) (0.5.0)\r\n",
      "Requirement already satisfied: formulaic>=0.2.2 in /opt/conda/lib/python3.10/site-packages (from lifelines==0.30.0) (1.0.2)\r\n",
      "Requirement already satisfied: interface-meta>=1.2.0 in /opt/conda/lib/python3.10/site-packages (from formulaic>=0.2.2->lifelines==0.30.0) (1.3.0)\r\n",
      "Requirement already satisfied: typing-extensions>=4.2.0 in /opt/conda/lib/python3.10/site-packages (from formulaic>=0.2.2->lifelines==0.30.0) (4.12.2)\r\n",
      "Requirement already satisfied: wrapt>=1.0 in /opt/conda/lib/python3.10/site-packages (from formulaic>=0.2.2->lifelines==0.30.0) (1.16.0)\r\n",
      "Requirement already satisfied: contourpy>=1.0.1 in /opt/conda/lib/python3.10/site-packages (from matplotlib>=3.0->lifelines==0.30.0) (1.2.1)\r\n",
      "Requirement already satisfied: cycler>=0.10 in /opt/conda/lib/python3.10/site-packages (from matplotlib>=3.0->lifelines==0.30.0) (0.12.1)\r\n",
      "Requirement already satisfied: fonttools>=4.22.0 in /opt/conda/lib/python3.10/site-packages (from matplotlib>=3.0->lifelines==0.30.0) (4.53.0)\r\n",
      "Requirement already satisfied: kiwisolver>=1.0.1 in /opt/conda/lib/python3.10/site-packages (from matplotlib>=3.0->lifelines==0.30.0) (1.4.5)\r\n",
      "Requirement already satisfied: packaging>=20.0 in /opt/conda/lib/python3.10/site-packages (from matplotlib>=3.0->lifelines==0.30.0) (21.3)\r\n",
      "Requirement already satisfied: pillow>=6.2.0 in /opt/conda/lib/python3.10/site-packages (from matplotlib>=3.0->lifelines==0.30.0) (10.3.0)\r\n",
      "Requirement already satisfied: pyparsing>=2.3.1 in /opt/conda/lib/python3.10/site-packages (from matplotlib>=3.0->lifelines==0.30.0) (3.1.2)\r\n",
      "Requirement already satisfied: python-dateutil>=2.7 in /opt/conda/lib/python3.10/site-packages (from matplotlib>=3.0->lifelines==0.30.0) (2.9.0.post0)\r\n",
      "Requirement already satisfied: pytz>=2020.1 in /opt/conda/lib/python3.10/site-packages (from pandas>=2.1->lifelines==0.30.0) (2024.1)\r\n",
      "Requirement already satisfied: tzdata>=2022.7 in /opt/conda/lib/python3.10/site-packages (from pandas>=2.1->lifelines==0.30.0) (2024.1)\r\n",
      "Requirement already satisfied: six>=1.5 in /opt/conda/lib/python3.10/site-packages (from python-dateutil>=2.7->matplotlib>=3.0->lifelines==0.30.0) (1.16.0)\r\n",
      "Installing collected packages: lifelines\r\n",
      "Successfully installed lifelines-0.30.0\r\n"
     ]
    }
   ],
   "source": [
    "!pip install /kaggle/input/pip-install-lifelines/autograd-1.7.0-py3-none-any.whl\n",
    "!pip install /kaggle/input/pip-install-lifelines/autograd-gamma-0.5.0.tar.gz\n",
    "!pip install /kaggle/input/pip-install-lifelines/interface_meta-1.3.0-py3-none-any.whl\n",
    "!pip install /kaggle/input/pip-install-lifelines/formulaic-1.0.2-py3-none-any.whl\n",
    "!pip install /kaggle/input/pip-install-lifelines/lifelines-0.30.0-py3-none-any.whl"
   ]
  },
  {
   "cell_type": "code",
   "execution_count": 2,
   "id": "78f949e5",
   "metadata": {
    "execution": {
     "iopub.execute_input": "2025-05-24T16:05:21.034068Z",
     "iopub.status.busy": "2025-05-24T16:05:21.033509Z",
     "iopub.status.idle": "2025-05-24T16:06:57.983002Z",
     "shell.execute_reply": "2025-05-24T16:06:57.981531Z"
    },
    "papermill": {
     "duration": 96.96033,
     "end_time": "2025-05-24T16:06:57.985738",
     "exception": false,
     "start_time": "2025-05-24T16:05:21.025408",
     "status": "completed"
    },
    "tags": []
   },
   "outputs": [
    {
     "name": "stdout",
     "output_type": "stream",
     "text": [
      "Processing /kaggle/input/pip-install-ray-tun-hyperopt/output/ray-2.42.1-cp310-cp310-manylinux2014_x86_64.whl\r\n",
      "Requirement already satisfied: click>=7.0 in /opt/conda/lib/python3.10/site-packages (from ray==2.42.1) (8.1.7)\r\n",
      "Requirement already satisfied: filelock in /opt/conda/lib/python3.10/site-packages (from ray==2.42.1) (3.15.1)\r\n",
      "Requirement already satisfied: jsonschema in /opt/conda/lib/python3.10/site-packages (from ray==2.42.1) (4.22.0)\r\n",
      "Requirement already satisfied: msgpack<2.0.0,>=1.0.0 in /opt/conda/lib/python3.10/site-packages (from ray==2.42.1) (1.0.8)\r\n",
      "Requirement already satisfied: packaging in /opt/conda/lib/python3.10/site-packages (from ray==2.42.1) (21.3)\r\n",
      "Requirement already satisfied: protobuf!=3.19.5,>=3.15.3 in /opt/conda/lib/python3.10/site-packages (from ray==2.42.1) (3.20.3)\r\n",
      "Requirement already satisfied: pyyaml in /opt/conda/lib/python3.10/site-packages (from ray==2.42.1) (6.0.2)\r\n",
      "Requirement already satisfied: aiosignal in /opt/conda/lib/python3.10/site-packages (from ray==2.42.1) (1.3.1)\r\n",
      "Requirement already satisfied: frozenlist in /opt/conda/lib/python3.10/site-packages (from ray==2.42.1) (1.4.1)\r\n",
      "Requirement already satisfied: requests in /opt/conda/lib/python3.10/site-packages (from ray==2.42.1) (2.32.3)\r\n",
      "Requirement already satisfied: attrs>=22.2.0 in /opt/conda/lib/python3.10/site-packages (from jsonschema->ray==2.42.1) (23.2.0)\r\n",
      "Requirement already satisfied: jsonschema-specifications>=2023.03.6 in /opt/conda/lib/python3.10/site-packages (from jsonschema->ray==2.42.1) (2023.12.1)\r\n",
      "Requirement already satisfied: referencing>=0.28.4 in /opt/conda/lib/python3.10/site-packages (from jsonschema->ray==2.42.1) (0.35.1)\r\n",
      "Requirement already satisfied: rpds-py>=0.7.1 in /opt/conda/lib/python3.10/site-packages (from jsonschema->ray==2.42.1) (0.18.1)\r\n",
      "Requirement already satisfied: pyparsing!=3.0.5,>=2.0.2 in /opt/conda/lib/python3.10/site-packages (from packaging->ray==2.42.1) (3.1.2)\r\n",
      "Requirement already satisfied: charset-normalizer<4,>=2 in /opt/conda/lib/python3.10/site-packages (from requests->ray==2.42.1) (3.3.2)\r\n",
      "Requirement already satisfied: idna<4,>=2.5 in /opt/conda/lib/python3.10/site-packages (from requests->ray==2.42.1) (3.7)\r\n",
      "Requirement already satisfied: urllib3<3,>=1.21.1 in /opt/conda/lib/python3.10/site-packages (from requests->ray==2.42.1) (1.26.18)\r\n",
      "Requirement already satisfied: certifi>=2017.4.17 in /opt/conda/lib/python3.10/site-packages (from requests->ray==2.42.1) (2024.6.2)\r\n",
      "Installing collected packages: ray\r\n",
      "  Attempting uninstall: ray\r\n",
      "    Found existing installation: ray 2.24.0\r\n",
      "    Uninstalling ray-2.24.0:\r\n",
      "      Successfully uninstalled ray-2.24.0\r\n",
      "Successfully installed ray-2.42.1\r\n",
      "Processing /kaggle/input/pip-install-ray-tun-hyperopt/output/hyperopt-0.2.7-py2.py3-none-any.whl\r\n",
      "Requirement already satisfied: numpy in /opt/conda/lib/python3.10/site-packages (from hyperopt==0.2.7) (1.26.4)\r\n",
      "Requirement already satisfied: scipy in /opt/conda/lib/python3.10/site-packages (from hyperopt==0.2.7) (1.14.1)\r\n",
      "Requirement already satisfied: six in /opt/conda/lib/python3.10/site-packages (from hyperopt==0.2.7) (1.16.0)\r\n",
      "Requirement already satisfied: networkx>=2.2 in /opt/conda/lib/python3.10/site-packages (from hyperopt==0.2.7) (3.3)\r\n",
      "Requirement already satisfied: future in /opt/conda/lib/python3.10/site-packages (from hyperopt==0.2.7) (1.0.0)\r\n",
      "Requirement already satisfied: tqdm in /opt/conda/lib/python3.10/site-packages (from hyperopt==0.2.7) (4.66.4)\r\n",
      "Requirement already satisfied: cloudpickle in /opt/conda/lib/python3.10/site-packages (from hyperopt==0.2.7) (3.1.0)\r\n",
      "Requirement already satisfied: py4j in /opt/conda/lib/python3.10/site-packages (from hyperopt==0.2.7) (0.10.9.7)\r\n",
      "hyperopt is already installed with the same version as the provided wheel. Use --force-reinstall to force an installation of the wheel.\r\n"
     ]
    }
   ],
   "source": [
    "!pip install /kaggle/input/pip-install-ray-tun-hyperopt/output/ray-2.42.1-cp310-cp310-manylinux2014_x86_64.whl\n",
    "!pip install /kaggle/input/pip-install-ray-tun-hyperopt/output/hyperopt-0.2.7-py2.py3-none-any.whl"
   ]
  },
  {
   "cell_type": "markdown",
   "id": "0149e41b",
   "metadata": {
    "papermill": {
     "duration": 0.007156,
     "end_time": "2025-05-24T16:06:58.000002",
     "exception": false,
     "start_time": "2025-05-24T16:06:57.992846",
     "status": "completed"
    },
    "tags": []
   },
   "source": [
    "# Imports"
   ]
  },
  {
   "cell_type": "code",
   "execution_count": 3,
   "id": "cf4a05bf",
   "metadata": {
    "_cell_guid": "b1076dfc-b9ad-4769-8c92-a6c4dae69d19",
    "_uuid": "8f2839f25d086af736a60e9eeb907d3b93b6e0e5",
    "execution": {
     "iopub.execute_input": "2025-05-24T16:06:58.016441Z",
     "iopub.status.busy": "2025-05-24T16:06:58.015456Z",
     "iopub.status.idle": "2025-05-24T16:07:04.960620Z",
     "shell.execute_reply": "2025-05-24T16:07:04.959364Z"
    },
    "papermill": {
     "duration": 6.956445,
     "end_time": "2025-05-24T16:07:04.963271",
     "exception": false,
     "start_time": "2025-05-24T16:06:58.006826",
     "status": "completed"
    },
    "tags": []
   },
   "outputs": [],
   "source": [
    "import os\n",
    "import matplotlib.pyplot as plt\n",
    "\n",
    "\n",
    "import ray\n",
    "from ray import tune\n",
    "from ray.tune.schedulers import ASHAScheduler\n",
    "from ray.tune.search.hyperopt import HyperOptSearch\n",
    "\n",
    "import numpy as np\n",
    "import pandas as pd\n",
    "from sklearn.model_selection import KFold\n",
    "from lifelines.utils import concordance_index\n",
    "from lifelines import KaplanMeierFitter\n",
    "\n",
    "# Model libraries\n",
    "from xgboost import XGBRegressor\n",
    "from catboost import CatBoostRegressor\n",
    "import lightgbm as lgb\n",
    "from metric import score"
   ]
  },
  {
   "cell_type": "code",
   "execution_count": 4,
   "id": "2d1405c5",
   "metadata": {
    "execution": {
     "iopub.execute_input": "2025-05-24T16:07:04.979736Z",
     "iopub.status.busy": "2025-05-24T16:07:04.978977Z",
     "iopub.status.idle": "2025-05-24T16:07:05.459057Z",
     "shell.execute_reply": "2025-05-24T16:07:05.457328Z"
    },
    "papermill": {
     "duration": 0.491331,
     "end_time": "2025-05-24T16:07:05.462180",
     "exception": false,
     "start_time": "2025-05-24T16:07:04.970849",
     "status": "completed"
    },
    "tags": []
   },
   "outputs": [
    {
     "name": "stdout",
     "output_type": "stream",
     "text": [
      "Test shape: (3, 58)\n",
      "Train shape: (28800, 60)\n"
     ]
    }
   ],
   "source": [
    "test = pd.read_csv(\"/kaggle/input/equity-post-HCT-survival-predictions/test.csv\")\n",
    "print(\"Test shape:\", test.shape )\n",
    "\n",
    "train = pd.read_csv(\"/kaggle/input/equity-post-HCT-survival-predictions/train.csv\")\n",
    "print(\"Train shape:\",train.shape)"
   ]
  },
  {
   "cell_type": "markdown",
   "id": "3895454e",
   "metadata": {
    "papermill": {
     "duration": 0.008848,
     "end_time": "2025-05-24T16:07:05.483142",
     "exception": false,
     "start_time": "2025-05-24T16:07:05.474294",
     "status": "completed"
    },
    "tags": []
   },
   "source": [
    "## efs und efs_time mit KaplanMeier in einem Ziel umwandeln\n",
    "In diesem Wettbewerb müssen wir den Risk Score vorhersagen. Daher werden wir ein Ziel erstellen, das den Risk Score nachahmt, um unser Modell zu trainieren."
   ]
  },
  {
   "cell_type": "code",
   "execution_count": 5,
   "id": "34240477",
   "metadata": {
    "execution": {
     "iopub.execute_input": "2025-05-24T16:07:05.501274Z",
     "iopub.status.busy": "2025-05-24T16:07:05.500680Z",
     "iopub.status.idle": "2025-05-24T16:07:05.591069Z",
     "shell.execute_reply": "2025-05-24T16:07:05.589817Z"
    },
    "papermill": {
     "duration": 0.102883,
     "end_time": "2025-05-24T16:07:05.594226",
     "exception": false,
     "start_time": "2025-05-24T16:07:05.491343",
     "status": "completed"
    },
    "tags": []
   },
   "outputs": [],
   "source": [
    "from lifelines import KaplanMeierFitter\n",
    "def transform_survival_probability(df, time_col='efs_time', event_col='efs'):\n",
    "    kmf = KaplanMeierFitter()\n",
    "    kmf.fit(df[time_col], df[event_col])\n",
    "    y = kmf.survival_function_at_times(df[time_col]).values\n",
    "    return y\n",
    "train[\"y\"] = transform_survival_probability(train, time_col='efs_time', event_col='efs')"
   ]
  },
  {
   "cell_type": "markdown",
   "id": "a659aea5",
   "metadata": {
    "papermill": {
     "duration": 0.011596,
     "end_time": "2025-05-24T16:07:05.618001",
     "exception": false,
     "start_time": "2025-05-24T16:07:05.606405",
     "status": "completed"
    },
    "tags": []
   },
   "source": [
    "## Features\n",
    "Es gibt insgesamt 57 Features. Davon sind 35 kategorisch und 22 numerisch. Wir werden die kategorialen Features mit Label Encoding kodieren. Das Modell wird diese dann als kategoriale Features akzeptieren und intern speziell verarbeiten. Die fehlenden Werte (NANs) bei den numerischen Features lassen wir unverändert, da das Modell, das wir trainieren, mit NANs umgehen kann und diese Information nutzen wird."
   ]
  },
  {
   "cell_type": "markdown",
   "id": "09480cf0",
   "metadata": {
    "papermill": {
     "duration": 0.007493,
     "end_time": "2025-05-24T16:07:05.634370",
     "exception": false,
     "start_time": "2025-05-24T16:07:05.626877",
     "status": "completed"
    },
    "tags": []
   },
   "source": [
    "1. Auswahl der Features"
   ]
  },
  {
   "cell_type": "code",
   "execution_count": 6,
   "id": "0d9b5edf",
   "metadata": {
    "execution": {
     "iopub.execute_input": "2025-05-24T16:07:05.650254Z",
     "iopub.status.busy": "2025-05-24T16:07:05.649685Z",
     "iopub.status.idle": "2025-05-24T16:07:05.657086Z",
     "shell.execute_reply": "2025-05-24T16:07:05.655767Z"
    },
    "papermill": {
     "duration": 0.018792,
     "end_time": "2025-05-24T16:07:05.660189",
     "exception": false,
     "start_time": "2025-05-24T16:07:05.641397",
     "status": "completed"
    },
    "tags": []
   },
   "outputs": [
    {
     "name": "stdout",
     "output_type": "stream",
     "text": [
      "There are 57 FEATURES: ['dri_score', 'psych_disturb', 'cyto_score', 'diabetes', 'hla_match_c_high', 'hla_high_res_8', 'tbi_status', 'arrhythmia', 'hla_low_res_6', 'graft_type', 'vent_hist', 'renal_issue', 'pulm_severe', 'prim_disease_hct', 'hla_high_res_6', 'cmv_status', 'hla_high_res_10', 'hla_match_dqb1_high', 'tce_imm_match', 'hla_nmdp_6', 'hla_match_c_low', 'rituximab', 'hla_match_drb1_low', 'hla_match_dqb1_low', 'prod_type', 'cyto_score_detail', 'conditioning_intensity', 'ethnicity', 'year_hct', 'obesity', 'mrd_hct', 'in_vivo_tcd', 'tce_match', 'hla_match_a_high', 'hepatic_severe', 'donor_age', 'prior_tumor', 'hla_match_b_low', 'peptic_ulcer', 'age_at_hct', 'hla_match_a_low', 'gvhd_proph', 'rheum_issue', 'sex_match', 'hla_match_b_high', 'race_group', 'comorbidity_score', 'karnofsky_score', 'hepatic_mild', 'tce_div_match', 'donor_related', 'melphalan_dose', 'hla_low_res_8', 'cardiac', 'hla_match_drb1_high', 'pulm_moderate', 'hla_low_res_10']\n"
     ]
    }
   ],
   "source": [
    "RMV = [\"ID\",\"efs\",\"efs_time\",\"y\"]\n",
    "FEATURES = [c for c in train.columns if not c in RMV]\n",
    "print(f\"There are {len(FEATURES)} FEATURES: {FEATURES}\")"
   ]
  },
  {
   "cell_type": "markdown",
   "id": "378c5c49",
   "metadata": {
    "papermill": {
     "duration": 0.011571,
     "end_time": "2025-05-24T16:07:05.683927",
     "exception": false,
     "start_time": "2025-05-24T16:07:05.672356",
     "status": "completed"
    },
    "tags": []
   },
   "source": [
    "2. Identifikation und Bearbeitung von kategorialen Feature"
   ]
  },
  {
   "cell_type": "code",
   "execution_count": 7,
   "id": "b422c0d4",
   "metadata": {
    "execution": {
     "iopub.execute_input": "2025-05-24T16:07:05.706363Z",
     "iopub.status.busy": "2025-05-24T16:07:05.705193Z",
     "iopub.status.idle": "2025-05-24T16:07:05.835381Z",
     "shell.execute_reply": "2025-05-24T16:07:05.833795Z"
    },
    "papermill": {
     "duration": 0.141729,
     "end_time": "2025-05-24T16:07:05.837993",
     "exception": false,
     "start_time": "2025-05-24T16:07:05.696264",
     "status": "completed"
    },
    "tags": []
   },
   "outputs": [
    {
     "name": "stdout",
     "output_type": "stream",
     "text": [
      "In these features, there are 35 CATEGORICAL FEATURES: ['dri_score', 'psych_disturb', 'cyto_score', 'diabetes', 'tbi_status', 'arrhythmia', 'graft_type', 'vent_hist', 'renal_issue', 'pulm_severe', 'prim_disease_hct', 'cmv_status', 'tce_imm_match', 'rituximab', 'prod_type', 'cyto_score_detail', 'conditioning_intensity', 'ethnicity', 'obesity', 'mrd_hct', 'in_vivo_tcd', 'tce_match', 'hepatic_severe', 'prior_tumor', 'peptic_ulcer', 'gvhd_proph', 'rheum_issue', 'sex_match', 'race_group', 'hepatic_mild', 'tce_div_match', 'donor_related', 'melphalan_dose', 'cardiac', 'pulm_moderate']\n"
     ]
    }
   ],
   "source": [
    "CATS = []\n",
    "for c in FEATURES:\n",
    "    if train[c].dtype==\"object\":\n",
    "        CATS.append(c)\n",
    "        train[c] = train[c].fillna(\"NAN\")\n",
    "        test[c] = test[c].fillna(\"NAN\")\n",
    "print(f\"In these features, there are {len(CATS)} CATEGORICAL FEATURES: {CATS}\")"
   ]
  },
  {
   "cell_type": "markdown",
   "id": "cf9d7684",
   "metadata": {
    "papermill": {
     "duration": 0.006923,
     "end_time": "2025-05-24T16:07:05.852149",
     "exception": false,
     "start_time": "2025-05-24T16:07:05.845226",
     "status": "completed"
    },
    "tags": []
   },
   "source": [
    "3.Dieser Code kombiniert die train- und test-Datensätze, kodiert kategoriale Features mit Label Encoding und konvertiert sie in den category-Typ, reduziert die Präzision numerischer Features auf float32 und int32 zur Speicheroptimierung und teilt die Datensätze anschließend wieder in train und test auf."
   ]
  },
  {
   "cell_type": "code",
   "execution_count": 8,
   "id": "8e801d9f",
   "metadata": {
    "execution": {
     "iopub.execute_input": "2025-05-24T16:07:05.869176Z",
     "iopub.status.busy": "2025-05-24T16:07:05.868760Z",
     "iopub.status.idle": "2025-05-24T16:07:06.048025Z",
     "shell.execute_reply": "2025-05-24T16:07:06.047002Z"
    },
    "papermill": {
     "duration": 0.190135,
     "end_time": "2025-05-24T16:07:06.050472",
     "exception": false,
     "start_time": "2025-05-24T16:07:05.860337",
     "status": "completed"
    },
    "tags": []
   },
   "outputs": [
    {
     "name": "stdout",
     "output_type": "stream",
     "text": [
      "We LABEL ENCODE the CATEGORICAL FEATURES: dri_score, psych_disturb, cyto_score, diabetes, tbi_status, arrhythmia, graft_type, vent_hist, renal_issue, pulm_severe, prim_disease_hct, cmv_status, tce_imm_match, rituximab, prod_type, cyto_score_detail, conditioning_intensity, ethnicity, obesity, mrd_hct, in_vivo_tcd, tce_match, hepatic_severe, prior_tumor, peptic_ulcer, gvhd_proph, rheum_issue, sex_match, race_group, hepatic_mild, tce_div_match, donor_related, melphalan_dose, cardiac, pulm_moderate, "
     ]
    }
   ],
   "source": [
    "combined = pd.concat([train,test],axis=0,ignore_index=True)\n",
    "#print(\"Combined data shape:\", combined.shape )\n",
    "\n",
    "# LABEL ENCODE CATEGORICAL FEATURES\n",
    "print(\"We LABEL ENCODE the CATEGORICAL FEATURES: \",end=\"\")\n",
    "for c in FEATURES:\n",
    "\n",
    "    # LABEL ENCODE CATEGORICAL AND CONVERT TO INT32 CATEGORY\n",
    "    if c in CATS:\n",
    "        print(f\"{c}, \",end=\"\")\n",
    "        combined[c],_ = combined[c].factorize()\n",
    "        combined[c] -= combined[c].min()\n",
    "        combined[c] = combined[c].astype(\"int32\")\n",
    "        combined[c] = combined[c].astype(\"category\")\n",
    "        \n",
    "    # REDUCE PRECISION OF NUMERICAL TO 32BIT TO SAVE MEMORY\n",
    "    else:\n",
    "        if combined[c].dtype==\"float64\":\n",
    "            combined[c] = combined[c].astype(\"float32\")\n",
    "        if combined[c].dtype==\"int64\":\n",
    "            combined[c] = combined[c].astype(\"int32\")\n",
    "    \n",
    "train = combined.iloc[:len(train)].copy()\n",
    "test = combined.iloc[len(train):].reset_index(drop=True).copy()"
   ]
  },
  {
   "cell_type": "markdown",
   "id": "1ca501fd",
   "metadata": {
    "papermill": {
     "duration": 0.007484,
     "end_time": "2025-05-24T16:07:06.065488",
     "exception": false,
     "start_time": "2025-05-24T16:07:06.058004",
     "status": "completed"
    },
    "tags": []
   },
   "source": [
    "## Survival:Cox braucht dieses Ziel (um efs und efs_time zu verarbeiten)"
   ]
  },
  {
   "cell_type": "code",
   "execution_count": 9,
   "id": "f79e3f5d",
   "metadata": {
    "execution": {
     "iopub.execute_input": "2025-05-24T16:07:06.083406Z",
     "iopub.status.busy": "2025-05-24T16:07:06.082231Z",
     "iopub.status.idle": "2025-05-24T16:07:06.092851Z",
     "shell.execute_reply": "2025-05-24T16:07:06.091673Z"
    },
    "papermill": {
     "duration": 0.023215,
     "end_time": "2025-05-24T16:07:06.096431",
     "exception": false,
     "start_time": "2025-05-24T16:07:06.073216",
     "status": "completed"
    },
    "tags": []
   },
   "outputs": [],
   "source": [
    "train[\"efs_time2\"] = train.efs_time.copy()\n",
    "train.loc[train.efs==0,\"efs_time2\"] *= -1"
   ]
  },
  {
   "cell_type": "markdown",
   "id": "0f62ac16",
   "metadata": {
    "papermill": {
     "duration": 0.007305,
     "end_time": "2025-05-24T16:07:06.117378",
     "exception": false,
     "start_time": "2025-05-24T16:07:06.110073",
     "status": "completed"
    },
    "tags": []
   },
   "source": [
    "## Hier wird ein Ray-Cluster initialisiert, der ermittelt die verfügbaren Systemressourcen und legt die Ressourcen pro Durchlauf basierend auf den verfügbaren Ressourcen oder den Systemstandards fest."
   ]
  },
  {
   "cell_type": "code",
   "execution_count": 10,
   "id": "c5bd2e17",
   "metadata": {
    "execution": {
     "iopub.execute_input": "2025-05-24T16:07:06.133643Z",
     "iopub.status.busy": "2025-05-24T16:07:06.133122Z",
     "iopub.status.idle": "2025-05-24T16:07:10.048290Z",
     "shell.execute_reply": "2025-05-24T16:07:10.046743Z"
    },
    "papermill": {
     "duration": 3.926233,
     "end_time": "2025-05-24T16:07:10.050693",
     "exception": false,
     "start_time": "2025-05-24T16:07:06.124460",
     "status": "completed"
    },
    "tags": []
   },
   "outputs": [
    {
     "name": "stderr",
     "output_type": "stream",
     "text": [
      "2025-05-24 16:07:08,242\tINFO worker.py:1841 -- Started a local Ray instance.\n"
     ]
    },
    {
     "data": {
      "application/vnd.jupyter.widget-view+json": {
       "model_id": "2d967dc76bbe44d8aabafba3a69c3559",
       "version_major": 2,
       "version_minor": 0
      },
      "text/html": [
       "<div class=\"lm-Widget p-Widget lm-Panel p-Panel jp-Cell-outputWrapper\">\n",
       "    <div style=\"margin-left: 50px;display: flex;flex-direction: row;align-items: center\">\n",
       "        <div class=\"jp-RenderedHTMLCommon\" style=\"display: flex; flex-direction: row;\">\n",
       "  <svg viewBox=\"0 0 567 224\" fill=\"none\" xmlns=\"http://www.w3.org/2000/svg\" style=\"height: 3em;\">\n",
       "    <g clip-path=\"url(#clip0_4338_178347)\">\n",
       "        <path d=\"M341.29 165.561H355.29L330.13 129.051C345.63 123.991 354.21 112.051 354.21 94.2307C354.21 71.3707 338.72 58.1807 311.88 58.1807H271V165.561H283.27V131.661H311.8C314.25 131.661 316.71 131.501 319.01 131.351L341.25 165.561H341.29ZM283.29 119.851V70.0007H311.82C331.3 70.0007 342.34 78.2907 342.34 94.5507C342.34 111.271 331.34 119.861 311.82 119.861L283.29 119.851ZM451.4 138.411L463.4 165.561H476.74L428.74 58.1807H416L367.83 165.561H380.83L392.83 138.411H451.4ZM446.19 126.601H398L422 72.1407L446.24 126.601H446.19ZM526.11 128.741L566.91 58.1807H554.35L519.99 114.181L485.17 58.1807H472.44L514.01 129.181V165.541H526.13V128.741H526.11Z\" fill=\"var(--jp-ui-font-color0)\"/>\n",
       "        <path d=\"M82.35 104.44C84.0187 97.8827 87.8248 92.0678 93.1671 87.9146C98.5094 83.7614 105.083 81.5067 111.85 81.5067C118.617 81.5067 125.191 83.7614 130.533 87.9146C135.875 92.0678 139.681 97.8827 141.35 104.44H163.75C164.476 101.562 165.622 98.8057 167.15 96.2605L127.45 56.5605C121.071 60.3522 113.526 61.6823 106.235 60.3005C98.9443 58.9187 92.4094 54.9203 87.8602 49.0574C83.3109 43.1946 81.0609 35.8714 81.5332 28.4656C82.0056 21.0599 85.1679 14.0819 90.4252 8.8446C95.6824 3.60726 102.672 0.471508 110.08 0.0272655C117.487 -0.416977 124.802 1.86091 130.647 6.4324C136.493 11.0039 140.467 17.5539 141.821 24.8501C143.175 32.1463 141.816 39.6859 138 46.0505L177.69 85.7505C182.31 82.9877 187.58 81.4995 192.962 81.4375C198.345 81.3755 203.648 82.742 208.33 85.3976C213.012 88.0532 216.907 91.9029 219.616 96.5544C222.326 101.206 223.753 106.492 223.753 111.875C223.753 117.258 222.326 122.545 219.616 127.197C216.907 131.848 213.012 135.698 208.33 138.353C203.648 141.009 198.345 142.375 192.962 142.313C187.58 142.251 182.31 140.763 177.69 138L138 177.7C141.808 184.071 143.155 191.614 141.79 198.91C140.424 206.205 136.44 212.75 130.585 217.313C124.731 221.875 117.412 224.141 110.004 223.683C102.596 223.226 95.6103 220.077 90.3621 214.828C85.1139 209.58 81.9647 202.595 81.5072 195.187C81.0497 187.779 83.3154 180.459 87.878 174.605C92.4405 168.751 98.9853 164.766 106.281 163.401C113.576 162.035 121.119 163.383 127.49 167.19L167.19 127.49C165.664 124.941 164.518 122.182 163.79 119.3H141.39C139.721 125.858 135.915 131.673 130.573 135.826C125.231 139.98 118.657 142.234 111.89 142.234C105.123 142.234 98.5494 139.98 93.2071 135.826C87.8648 131.673 84.0587 125.858 82.39 119.3H60C58.1878 126.495 53.8086 132.78 47.6863 136.971C41.5641 141.163 34.1211 142.972 26.7579 142.059C19.3947 141.146 12.6191 137.574 7.70605 132.014C2.79302 126.454 0.0813599 119.29 0.0813599 111.87C0.0813599 104.451 2.79302 97.2871 7.70605 91.7272C12.6191 86.1673 19.3947 82.5947 26.7579 81.6817C34.1211 80.7686 41.5641 82.5781 47.6863 86.7696C53.8086 90.9611 58.1878 97.2456 60 104.44H82.35ZM100.86 204.32C103.407 206.868 106.759 208.453 110.345 208.806C113.93 209.159 117.527 208.258 120.522 206.256C123.517 204.254 125.725 201.276 126.771 197.828C127.816 194.38 127.633 190.677 126.253 187.349C124.874 184.021 122.383 181.274 119.205 179.577C116.027 177.88 112.359 177.337 108.826 178.042C105.293 178.746 102.113 180.654 99.8291 183.44C97.5451 186.226 96.2979 189.718 96.3 193.32C96.2985 195.364 96.7006 197.388 97.4831 199.275C98.2656 201.163 99.4132 202.877 100.86 204.32ZM204.32 122.88C206.868 120.333 208.453 116.981 208.806 113.396C209.159 109.811 208.258 106.214 206.256 103.219C204.254 100.223 201.275 98.0151 197.827 96.97C194.38 95.9249 190.676 96.1077 187.348 97.4873C184.02 98.8669 181.274 101.358 179.577 104.536C177.879 107.714 177.337 111.382 178.041 114.915C178.746 118.448 180.653 121.627 183.439 123.911C186.226 126.195 189.717 127.443 193.32 127.44C195.364 127.443 197.388 127.042 199.275 126.259C201.163 125.476 202.878 124.328 204.32 122.88ZM122.88 19.4205C120.333 16.8729 116.981 15.2876 113.395 14.9347C109.81 14.5817 106.213 15.483 103.218 17.4849C100.223 19.4868 98.0146 22.4654 96.9696 25.9131C95.9245 29.3608 96.1073 33.0642 97.4869 36.3922C98.8665 39.7202 101.358 42.4668 104.535 44.1639C107.713 45.861 111.381 46.4036 114.914 45.6992C118.447 44.9949 121.627 43.0871 123.911 40.301C126.195 37.515 127.442 34.0231 127.44 30.4205C127.44 28.3772 127.038 26.3539 126.255 24.4664C125.473 22.5788 124.326 20.8642 122.88 19.4205ZM19.42 100.86C16.8725 103.408 15.2872 106.76 14.9342 110.345C14.5813 113.93 15.4826 117.527 17.4844 120.522C19.4863 123.518 22.4649 125.726 25.9127 126.771C29.3604 127.816 33.0638 127.633 36.3918 126.254C39.7198 124.874 42.4664 122.383 44.1635 119.205C45.8606 116.027 46.4032 112.359 45.6988 108.826C44.9944 105.293 43.0866 102.114 40.3006 99.8296C37.5145 97.5455 34.0227 96.2983 30.42 96.3005C26.2938 96.3018 22.337 97.9421 19.42 100.86ZM100.86 100.86C98.3125 103.408 96.7272 106.76 96.3742 110.345C96.0213 113.93 96.9226 117.527 98.9244 120.522C100.926 123.518 103.905 125.726 107.353 126.771C110.8 127.816 114.504 127.633 117.832 126.254C121.16 124.874 123.906 122.383 125.604 119.205C127.301 116.027 127.843 112.359 127.139 108.826C126.434 105.293 124.527 102.114 121.741 99.8296C118.955 97.5455 115.463 96.2983 111.86 96.3005C109.817 96.299 107.793 96.701 105.905 97.4835C104.018 98.2661 102.303 99.4136 100.86 100.86Z\" fill=\"#00AEEF\"/>\n",
       "    </g>\n",
       "    <defs>\n",
       "        <clipPath id=\"clip0_4338_178347\">\n",
       "            <rect width=\"566.93\" height=\"223.75\" fill=\"white\"/>\n",
       "        </clipPath>\n",
       "    </defs>\n",
       "  </svg>\n",
       "</div>\n",
       "\n",
       "        <table class=\"jp-RenderedHTMLCommon\" style=\"border-collapse: collapse;color: var(--jp-ui-font-color1);font-size: var(--jp-ui-font-size1);\">\n",
       "    <tr>\n",
       "        <td style=\"text-align: left\"><b>Python version:</b></td>\n",
       "        <td style=\"text-align: left\"><b>3.10.14</b></td>\n",
       "    </tr>\n",
       "    <tr>\n",
       "        <td style=\"text-align: left\"><b>Ray version:</b></td>\n",
       "        <td style=\"text-align: left\"><b>2.42.1</b></td>\n",
       "    </tr>\n",
       "    \n",
       "</table>\n",
       "\n",
       "    </div>\n",
       "</div>\n"
      ],
      "text/plain": [
       "RayContext(dashboard_url='', python_version='3.10.14', ray_version='2.42.1', ray_commit='c2e38f7b75be223c0c033986472daada8622d64f')"
      ]
     },
     "execution_count": 10,
     "metadata": {},
     "output_type": "execute_result"
    }
   ],
   "source": [
    "ray.init(ignore_reinit_error=True)"
   ]
  },
  {
   "cell_type": "code",
   "execution_count": 11,
   "id": "bd531845",
   "metadata": {
    "execution": {
     "iopub.execute_input": "2025-05-24T16:07:10.072637Z",
     "iopub.status.busy": "2025-05-24T16:07:10.070516Z",
     "iopub.status.idle": "2025-05-24T16:07:10.079048Z",
     "shell.execute_reply": "2025-05-24T16:07:10.077798Z"
    },
    "papermill": {
     "duration": 0.022645,
     "end_time": "2025-05-24T16:07:10.081893",
     "exception": false,
     "start_time": "2025-05-24T16:07:10.059248",
     "status": "completed"
    },
    "tags": []
   },
   "outputs": [],
   "source": [
    "available_resources = ray.cluster_resources()\n"
   ]
  },
  {
   "cell_type": "code",
   "execution_count": 12,
   "id": "4ca55ab4",
   "metadata": {
    "execution": {
     "iopub.execute_input": "2025-05-24T16:07:10.099784Z",
     "iopub.status.busy": "2025-05-24T16:07:10.099254Z",
     "iopub.status.idle": "2025-05-24T16:07:10.105943Z",
     "shell.execute_reply": "2025-05-24T16:07:10.104664Z"
    },
    "papermill": {
     "duration": 0.018515,
     "end_time": "2025-05-24T16:07:10.108398",
     "exception": false,
     "start_time": "2025-05-24T16:07:10.089883",
     "status": "completed"
    },
    "tags": []
   },
   "outputs": [],
   "source": [
    "resources_per_trial = {\n",
    "    \"cpu\": int(available_resources.get(\"CPU\", os.cpu_count())),\n",
    "    \"gpu\": int(available_resources.get(\"GPU\", 0))\n",
    "}"
   ]
  },
  {
   "cell_type": "markdown",
   "id": "8d7727b9",
   "metadata": {
    "papermill": {
     "duration": 0.007857,
     "end_time": "2025-05-24T16:07:10.125184",
     "exception": false,
     "start_time": "2025-05-24T16:07:10.117327",
     "status": "completed"
    },
    "tags": []
   },
   "source": [
    "# CatBoost Survival:Cox Hyperparameter Tunning"
   ]
  },
  {
   "cell_type": "code",
   "execution_count": 13,
   "id": "bae41305",
   "metadata": {
    "execution": {
     "iopub.execute_input": "2025-05-24T16:07:10.143414Z",
     "iopub.status.busy": "2025-05-24T16:07:10.142862Z",
     "iopub.status.idle": "2025-05-24T18:41:09.049481Z",
     "shell.execute_reply": "2025-05-24T18:41:09.047793Z"
    },
    "papermill": {
     "duration": 9238.920098,
     "end_time": "2025-05-24T18:41:09.053161",
     "exception": false,
     "start_time": "2025-05-24T16:07:10.133063",
     "status": "completed"
    },
    "tags": []
   },
   "outputs": [
    {
     "data": {
      "text/html": [
       "<div class=\"tuneStatus\">\n",
       "  <div style=\"display: flex;flex-direction: row\">\n",
       "    <div style=\"display: flex;flex-direction: column;\">\n",
       "      <h3>Tune Status</h3>\n",
       "      <table>\n",
       "<tbody>\n",
       "<tr><td>Current time:</td><td>2025-05-24 18:41:09</td></tr>\n",
       "<tr><td>Running for: </td><td>02:33:46.18        </td></tr>\n",
       "<tr><td>Memory:      </td><td>1.9/31.4 GiB       </td></tr>\n",
       "</tbody>\n",
       "</table>\n",
       "    </div>\n",
       "    <div class=\"vDivider\"></div>\n",
       "    <div class=\"systemInfo\">\n",
       "      <h3>System Info</h3>\n",
       "      Using FIFO scheduling algorithm.<br>Logical resource usage: 4.0/4 CPUs, 0/0 GPUs\n",
       "    </div>\n",
       "    \n",
       "  </div>\n",
       "  <div class=\"hDivider\"></div>\n",
       "  <div class=\"trialStatus\">\n",
       "    <h3>Trial Status</h3>\n",
       "    <table>\n",
       "<thead>\n",
       "<tr><th>Trial name             </th><th>status    </th><th>loc            </th><th style=\"text-align: right;\">  colsample_bytree</th><th style=\"text-align: right;\">  learning_rate</th><th style=\"text-align: right;\">  max_depth</th><th style=\"text-align: right;\">  min_child_weight</th><th style=\"text-align: right;\">  n_estimators</th><th style=\"text-align: right;\">  random_strength</th><th style=\"text-align: right;\">  reg_lambda</th><th style=\"text-align: right;\">  iter</th><th style=\"text-align: right;\">  total time (s)</th><th style=\"text-align: right;\">  cv_metric</th></tr>\n",
       "</thead>\n",
       "<tbody>\n",
       "<tr><td>train_catboost_9f3f9ffc</td><td>TERMINATED</td><td>172.19.2.2:427 </td><td style=\"text-align: right;\">          0.927694</td><td style=\"text-align: right;\">     0.0106775 </td><td style=\"text-align: right;\">          5</td><td style=\"text-align: right;\">                12</td><td style=\"text-align: right;\">          2637</td><td style=\"text-align: right;\">                7</td><td style=\"text-align: right;\"> 16.6851    </td><td style=\"text-align: right;\">     1</td><td style=\"text-align: right;\">        1483.75 </td><td style=\"text-align: right;\">   0.667492</td></tr>\n",
       "<tr><td>train_catboost_3cfecf64</td><td>TERMINATED</td><td>172.19.2.2:753 </td><td style=\"text-align: right;\">          0.350482</td><td style=\"text-align: right;\">     0.00311516</td><td style=\"text-align: right;\">         10</td><td style=\"text-align: right;\">                17</td><td style=\"text-align: right;\">          2264</td><td style=\"text-align: right;\">                3</td><td style=\"text-align: right;\">  2.95259   </td><td style=\"text-align: right;\">     1</td><td style=\"text-align: right;\">        1086.75 </td><td style=\"text-align: right;\">   0.652761</td></tr>\n",
       "<tr><td>train_catboost_bcf25914</td><td>TERMINATED</td><td>172.19.2.2:1034</td><td style=\"text-align: right;\">          0.302115</td><td style=\"text-align: right;\">     0.0289093 </td><td style=\"text-align: right;\">          8</td><td style=\"text-align: right;\">                 4</td><td style=\"text-align: right;\">          1088</td><td style=\"text-align: right;\">                9</td><td style=\"text-align: right;\">  2.35609   </td><td style=\"text-align: right;\">     1</td><td style=\"text-align: right;\">         496.091</td><td style=\"text-align: right;\">   0.669814</td></tr>\n",
       "<tr><td>train_catboost_10345ee4</td><td>TERMINATED</td><td>172.19.2.2:1255</td><td style=\"text-align: right;\">          0.933664</td><td style=\"text-align: right;\">     0.0018288 </td><td style=\"text-align: right;\">          8</td><td style=\"text-align: right;\">                 9</td><td style=\"text-align: right;\">          1294</td><td style=\"text-align: right;\">               10</td><td style=\"text-align: right;\">  7.49344   </td><td style=\"text-align: right;\">     1</td><td style=\"text-align: right;\">         920.515</td><td style=\"text-align: right;\">   0.638538</td></tr>\n",
       "<tr><td>train_catboost_d308b064</td><td>TERMINATED</td><td>172.19.2.2:1520</td><td style=\"text-align: right;\">          0.929356</td><td style=\"text-align: right;\">     0.00883841</td><td style=\"text-align: right;\">          7</td><td style=\"text-align: right;\">                31</td><td style=\"text-align: right;\">          2872</td><td style=\"text-align: right;\">                2</td><td style=\"text-align: right;\">  1.03361   </td><td style=\"text-align: right;\">     1</td><td style=\"text-align: right;\">        2031.9  </td><td style=\"text-align: right;\">   0.670152</td></tr>\n",
       "<tr><td>train_catboost_ec279a13</td><td>TERMINATED</td><td>172.19.2.2:1894</td><td style=\"text-align: right;\">          0.464593</td><td style=\"text-align: right;\">     0.111666  </td><td style=\"text-align: right;\">          9</td><td style=\"text-align: right;\">                39</td><td style=\"text-align: right;\">           422</td><td style=\"text-align: right;\">                5</td><td style=\"text-align: right;\"> 13.2285    </td><td style=\"text-align: right;\">     1</td><td style=\"text-align: right;\">         230.129</td><td style=\"text-align: right;\">   0.670519</td></tr>\n",
       "<tr><td>train_catboost_f9771ba1</td><td>TERMINATED</td><td>172.19.2.2:2090</td><td style=\"text-align: right;\">          0.484065</td><td style=\"text-align: right;\">     0.00366877</td><td style=\"text-align: right;\">          3</td><td style=\"text-align: right;\">                38</td><td style=\"text-align: right;\">          1783</td><td style=\"text-align: right;\">                4</td><td style=\"text-align: right;\">  0.0135244 </td><td style=\"text-align: right;\">     1</td><td style=\"text-align: right;\">         566.922</td><td style=\"text-align: right;\">   0.647438</td></tr>\n",
       "<tr><td>train_catboost_f648759f</td><td>TERMINATED</td><td>172.19.2.2:2319</td><td style=\"text-align: right;\">          0.543219</td><td style=\"text-align: right;\">     0.0185863 </td><td style=\"text-align: right;\">          9</td><td style=\"text-align: right;\">                37</td><td style=\"text-align: right;\">           762</td><td style=\"text-align: right;\">                6</td><td style=\"text-align: right;\"> 14.6124    </td><td style=\"text-align: right;\">     1</td><td style=\"text-align: right;\">         449.811</td><td style=\"text-align: right;\">   0.66016 </td></tr>\n",
       "<tr><td>train_catboost_901e1172</td><td>TERMINATED</td><td>172.19.2.2:2536</td><td style=\"text-align: right;\">          0.694967</td><td style=\"text-align: right;\">     0.00141203</td><td style=\"text-align: right;\">          5</td><td style=\"text-align: right;\">                37</td><td style=\"text-align: right;\">          2550</td><td style=\"text-align: right;\">                2</td><td style=\"text-align: right;\">  0.0461372 </td><td style=\"text-align: right;\">     1</td><td style=\"text-align: right;\">        1319.01 </td><td style=\"text-align: right;\">   0.650194</td></tr>\n",
       "<tr><td>train_catboost_b2090773</td><td>TERMINATED</td><td>172.19.2.2:2840</td><td style=\"text-align: right;\">          0.362812</td><td style=\"text-align: right;\">     0.00830557</td><td style=\"text-align: right;\">          5</td><td style=\"text-align: right;\">                30</td><td style=\"text-align: right;\">          1516</td><td style=\"text-align: right;\">                7</td><td style=\"text-align: right;\">  0.00338279</td><td style=\"text-align: right;\">     1</td><td style=\"text-align: right;\">         593.925</td><td style=\"text-align: right;\">   0.654207</td></tr>\n",
       "</tbody>\n",
       "</table>\n",
       "  </div>\n",
       "</div>\n",
       "<style>\n",
       ".tuneStatus {\n",
       "  color: var(--jp-ui-font-color1);\n",
       "}\n",
       ".tuneStatus .systemInfo {\n",
       "  display: flex;\n",
       "  flex-direction: column;\n",
       "}\n",
       ".tuneStatus td {\n",
       "  white-space: nowrap;\n",
       "}\n",
       ".tuneStatus .trialStatus {\n",
       "  display: flex;\n",
       "  flex-direction: column;\n",
       "}\n",
       ".tuneStatus h3 {\n",
       "  font-weight: bold;\n",
       "}\n",
       ".tuneStatus .hDivider {\n",
       "  border-bottom-width: var(--jp-border-width);\n",
       "  border-bottom-color: var(--jp-border-color0);\n",
       "  border-bottom-style: solid;\n",
       "}\n",
       ".tuneStatus .vDivider {\n",
       "  border-left-width: var(--jp-border-width);\n",
       "  border-left-color: var(--jp-border-color0);\n",
       "  border-left-style: solid;\n",
       "  margin: 0.5em 1em 0.5em 1em;\n",
       "}\n",
       "</style>\n"
      ],
      "text/plain": [
       "<IPython.core.display.HTML object>"
      ]
     },
     "metadata": {},
     "output_type": "display_data"
    },
    {
     "name": "stderr",
     "output_type": "stream",
     "text": [
      "2025-05-24 18:41:09,006\tINFO tune.py:1009 -- Wrote the latest version of all result files and experiment state to '/root/ray_results/train_catboost_2025-05-24_16-07-10' in 0.0114s.\n",
      "2025-05-24 18:41:09,018\tINFO tune.py:1041 -- Total run time: 9238.85 seconds (9226.17 seconds for the tuning loop).\n"
     ]
    },
    {
     "name": "stdout",
     "output_type": "stream",
     "text": [
      "Best Hyperparameters: {'max_depth': 9, 'learning_rate': 0.11166617741801442, 'min_child_weight': 39, 'colsample_bytree': 0.4645925617070444, 'reg_lambda': 13.22846453228072, 'n_estimators': 422, 'random_strength': 5}\n"
     ]
    }
   ],
   "source": [
    "import numpy as np\n",
    "from sklearn.model_selection import KFold\n",
    "from catboost import CatBoostRegressor\n",
    "from ray import tune\n",
    "from metric import score  # Import your custom metric function\n",
    "\n",
    "def train_catboost(config):\n",
    "    FOLDS = 10\n",
    "    kf = KFold(n_splits=FOLDS, shuffle=True, random_state=42)\n",
    "    \n",
    "    # Initialize out-of-fold predictions and test predictions if a test set exists.\n",
    "    oof_preds = np.zeros(len(train))\n",
    "    test_preds = np.zeros(len(test)) if \"test\" in globals() else None\n",
    "\n",
    "    for fold, (train_idx, valid_idx) in enumerate(kf.split(train)):\n",
    "        print(\"#\" * 25)\n",
    "        print(f\"### Fold {fold+1}\")\n",
    "        print(\"#\" * 25)\n",
    "        \n",
    "        # Extract training and validation sets.\n",
    "        x_train = train.loc[train_idx, FEATURES].copy()\n",
    "        y_train = train.loc[train_idx, \"efs_time2\"]\n",
    "        x_valid = train.loc[valid_idx, FEATURES].copy()\n",
    "        y_valid = train.loc[valid_idx, \"efs_time2\"]\n",
    "        \n",
    "       \n",
    "        model = CatBoostRegressor(\n",
    "            depth=config[\"max_depth\"],\n",
    "            learning_rate=config[\"learning_rate\"],\n",
    "            min_data_in_leaf=config[\"min_child_weight\"],\n",
    "            #subsample=config[\"subsample\"],\n",
    "            rsm=config[\"colsample_bytree\"],\n",
    "            l2_leaf_reg=config[\"reg_lambda\"],\n",
    "            iterations=config[\"n_estimators\"],\n",
    "            random_strength=config[\"random_strength\"],\n",
    "            grow_policy=\"Lossguide\",\n",
    "            loss_function=\"Cox\",\n",
    "            bootstrap_type=\"Bernoulli\",\n",
    "            verbose=False\n",
    "        )\n",
    "        \n",
    "        # Fit the model with early stopping.\n",
    "        model.fit(\n",
    "            x_train, y_train,\n",
    "            cat_features=CATS,\n",
    "            eval_set=(x_valid, y_valid),\n",
    "            #early_stopping_rounds=25,\n",
    "            #verbose=-1\n",
    "        )\n",
    "        \n",
    "        # Save predictions for the validation fold.\n",
    "        oof_preds[valid_idx] = model.predict(x_valid)\n",
    "        \n",
    "        # If test data exists, aggregate predictions over folds.\n",
    "        if test_preds is not None:\n",
    "            x_test = test[FEATURES].copy()\n",
    "            test_preds += model.predict(x_test)\n",
    "    \n",
    "    # Average test predictions over folds (if applicable).\n",
    "    if test_preds is not None:\n",
    "        test_preds /= FOLDS\n",
    "\n",
    "    # Prepare data for the overall CV metric computation.\n",
    "    y_true = train[[\"ID\", \"efs\", \"efs_time\", \"race_group\"]].copy()\n",
    "    y_pred = train[[\"ID\"]].copy()\n",
    "    y_pred[\"prediction\"] = oof_preds\n",
    "    \n",
    "    # Evaluate the overall performance using the custom metric.\n",
    "    cv_metric = score(y_true.copy(), y_pred.copy(), \"ID\")\n",
    "    \n",
    "    # Report the metric to Ray Tune.\n",
    "    tune.report({\"cv_metric\": cv_metric})\n",
    "\n",
    "# Define the hyperparameter search space.\n",
    "config = {\n",
    "    \"max_depth\": tune.randint(2, 11),\n",
    "    \"learning_rate\": tune.loguniform(0.001, 0.2),\n",
    "    \"min_child_weight\": tune.randint(1, 51),\n",
    "    #\"subsample\": tune.uniform(0.4, 1.0),\n",
    "    \"colsample_bytree\": tune.uniform(0.2, 1.0),\n",
    "    \"reg_lambda\": tune.loguniform(1e-4, 100),\n",
    "    \"n_estimators\": tune.randint(50, 3001),\n",
    "    \"random_strength\": tune.randint(1, 11)\n",
    "}\n",
    "\n",
    "# Create a HyperOptSearch instance specifying that we wish to maximize the cv_metric.\n",
    "hyperopt_search = HyperOptSearch(metric=\"cv_metric\", mode=\"max\")\n",
    "\n",
    "# Run tuning with Ray Tune using HyperOpt as the search algorithm.\n",
    "analysis = tune.run(\n",
    "    train_catboost,\n",
    "    search_alg=hyperopt_search,\n",
    "    config=config,\n",
    "    num_samples=10,\n",
    "    resources_per_trial=resources_per_trial,\n",
    "    trial_dirname_creator=lambda trial: f\"trial_{trial.trial_id}\",\n",
    "    verbose=1\n",
    ")\n",
    "\n",
    "# Retrieve the best configuration based on the overall CV metric (cv_metric).\n",
    "best_config = analysis.get_best_config(metric=\"cv_metric\", mode=\"max\")\n",
    "print(\"Best Hyperparameters:\", best_config)"
   ]
  }
 ],
 "metadata": {
  "kaggle": {
   "accelerator": "none",
   "dataSources": [
    {
     "databundleVersionId": 10381525,
     "sourceId": 70942,
     "sourceType": "competition"
    },
    {
     "sourceId": 211253469,
     "sourceType": "kernelVersion"
    },
    {
     "sourceId": 211322530,
     "sourceType": "kernelVersion"
    },
    {
     "sourceId": 222894251,
     "sourceType": "kernelVersion"
    }
   ],
   "dockerImageVersionId": 30804,
   "isGpuEnabled": false,
   "isInternetEnabled": false,
   "language": "python",
   "sourceType": "notebook"
  },
  "kernelspec": {
   "display_name": "Python 3",
   "language": "python",
   "name": "python3"
  },
  "language_info": {
   "codemirror_mode": {
    "name": "ipython",
    "version": 3
   },
   "file_extension": ".py",
   "mimetype": "text/x-python",
   "name": "python",
   "nbconvert_exporter": "python",
   "pygments_lexer": "ipython3",
   "version": "3.10.14"
  },
  "papermill": {
   "default_parameters": {},
   "duration": 9575.787101,
   "end_time": "2025-05-24T18:41:14.189803",
   "environment_variables": {},
   "exception": null,
   "input_path": "__notebook__.ipynb",
   "output_path": "__notebook__.ipynb",
   "parameters": {},
   "start_time": "2025-05-24T16:01:38.402702",
   "version": "2.6.0"
  },
  "widgets": {
   "application/vnd.jupyter.widget-state+json": {
    "state": {
     "21c0797252774721875d2288861fed29": {
      "model_module": "@jupyter-widgets/base",
      "model_module_version": "2.0.0",
      "model_name": "LayoutModel",
      "state": {
       "_model_module": "@jupyter-widgets/base",
       "_model_module_version": "2.0.0",
       "_model_name": "LayoutModel",
       "_view_count": null,
       "_view_module": "@jupyter-widgets/base",
       "_view_module_version": "2.0.0",
       "_view_name": "LayoutView",
       "align_content": null,
       "align_items": null,
       "align_self": null,
       "border_bottom": null,
       "border_left": null,
       "border_right": null,
       "border_top": null,
       "bottom": null,
       "display": null,
       "flex": null,
       "flex_flow": null,
       "grid_area": null,
       "grid_auto_columns": null,
       "grid_auto_flow": null,
       "grid_auto_rows": null,
       "grid_column": null,
       "grid_gap": null,
       "grid_row": null,
       "grid_template_areas": null,
       "grid_template_columns": null,
       "grid_template_rows": null,
       "height": null,
       "justify_content": null,
       "justify_items": null,
       "left": null,
       "margin": null,
       "max_height": null,
       "max_width": null,
       "min_height": null,
       "min_width": null,
       "object_fit": null,
       "object_position": null,
       "order": null,
       "overflow": null,
       "padding": null,
       "right": null,
       "top": null,
       "visibility": null,
       "width": null
      }
     },
     "2d967dc76bbe44d8aabafba3a69c3559": {
      "model_module": "@jupyter-widgets/controls",
      "model_module_version": "2.0.0",
      "model_name": "HBoxModel",
      "state": {
       "_dom_classes": [],
       "_model_module": "@jupyter-widgets/controls",
       "_model_module_version": "2.0.0",
       "_model_name": "HBoxModel",
       "_view_count": null,
       "_view_module": "@jupyter-widgets/controls",
       "_view_module_version": "2.0.0",
       "_view_name": "HBoxView",
       "box_style": "",
       "children": [
        "IPY_MODEL_55bb3b7bbca74875bb328f4ac62bb499",
        "IPY_MODEL_d156784f6dcf47bbbc7f7bc4ca7d9614"
       ],
       "layout": "IPY_MODEL_db0c0516895c466d85bca972bf6ec9e6",
       "tabbable": null,
       "tooltip": null
      }
     },
     "517b299e67724e0eb51752238681f788": {
      "model_module": "@jupyter-widgets/controls",
      "model_module_version": "2.0.0",
      "model_name": "HTMLStyleModel",
      "state": {
       "_model_module": "@jupyter-widgets/controls",
       "_model_module_version": "2.0.0",
       "_model_name": "HTMLStyleModel",
       "_view_count": null,
       "_view_module": "@jupyter-widgets/base",
       "_view_module_version": "2.0.0",
       "_view_name": "StyleView",
       "background": null,
       "description_width": "",
       "font_size": null,
       "text_color": null
      }
     },
     "55bb3b7bbca74875bb328f4ac62bb499": {
      "model_module": "@jupyter-widgets/controls",
      "model_module_version": "2.0.0",
      "model_name": "VBoxModel",
      "state": {
       "_dom_classes": [],
       "_model_module": "@jupyter-widgets/controls",
       "_model_module_version": "2.0.0",
       "_model_name": "VBoxModel",
       "_view_count": null,
       "_view_module": "@jupyter-widgets/controls",
       "_view_module_version": "2.0.0",
       "_view_name": "VBoxView",
       "box_style": "",
       "children": [
        "IPY_MODEL_6eda72ce51f64c5cbbcd1b2d838ce321",
        "IPY_MODEL_afeb96ed08524e75bf54e050244b4eb8"
       ],
       "layout": "IPY_MODEL_64991ac531634df792b07fe828fa41ed",
       "tabbable": null,
       "tooltip": null
      }
     },
     "64991ac531634df792b07fe828fa41ed": {
      "model_module": "@jupyter-widgets/base",
      "model_module_version": "2.0.0",
      "model_name": "LayoutModel",
      "state": {
       "_model_module": "@jupyter-widgets/base",
       "_model_module_version": "2.0.0",
       "_model_name": "LayoutModel",
       "_view_count": null,
       "_view_module": "@jupyter-widgets/base",
       "_view_module_version": "2.0.0",
       "_view_name": "LayoutView",
       "align_content": null,
       "align_items": null,
       "align_self": null,
       "border_bottom": null,
       "border_left": null,
       "border_right": null,
       "border_top": null,
       "bottom": null,
       "display": null,
       "flex": null,
       "flex_flow": null,
       "grid_area": null,
       "grid_auto_columns": null,
       "grid_auto_flow": null,
       "grid_auto_rows": null,
       "grid_column": null,
       "grid_gap": null,
       "grid_row": null,
       "grid_template_areas": null,
       "grid_template_columns": null,
       "grid_template_rows": null,
       "height": null,
       "justify_content": null,
       "justify_items": null,
       "left": null,
       "margin": null,
       "max_height": null,
       "max_width": null,
       "min_height": null,
       "min_width": null,
       "object_fit": null,
       "object_position": null,
       "order": null,
       "overflow": null,
       "padding": null,
       "right": null,
       "top": null,
       "visibility": null,
       "width": null
      }
     },
     "65fc7e985e164875908e08291f2c2be1": {
      "model_module": "@jupyter-widgets/controls",
      "model_module_version": "2.0.0",
      "model_name": "HTMLStyleModel",
      "state": {
       "_model_module": "@jupyter-widgets/controls",
       "_model_module_version": "2.0.0",
       "_model_name": "HTMLStyleModel",
       "_view_count": null,
       "_view_module": "@jupyter-widgets/base",
       "_view_module_version": "2.0.0",
       "_view_name": "StyleView",
       "background": null,
       "description_width": "",
       "font_size": null,
       "text_color": null
      }
     },
     "68304c2c22844da386bcb78d5c02cc60": {
      "model_module": "@jupyter-widgets/base",
      "model_module_version": "2.0.0",
      "model_name": "LayoutModel",
      "state": {
       "_model_module": "@jupyter-widgets/base",
       "_model_module_version": "2.0.0",
       "_model_name": "LayoutModel",
       "_view_count": null,
       "_view_module": "@jupyter-widgets/base",
       "_view_module_version": "2.0.0",
       "_view_name": "LayoutView",
       "align_content": null,
       "align_items": null,
       "align_self": null,
       "border_bottom": null,
       "border_left": null,
       "border_right": null,
       "border_top": null,
       "bottom": null,
       "display": null,
       "flex": null,
       "flex_flow": null,
       "grid_area": null,
       "grid_auto_columns": null,
       "grid_auto_flow": null,
       "grid_auto_rows": null,
       "grid_column": null,
       "grid_gap": null,
       "grid_row": null,
       "grid_template_areas": null,
       "grid_template_columns": null,
       "grid_template_rows": null,
       "height": null,
       "justify_content": null,
       "justify_items": null,
       "left": null,
       "margin": "auto 0px 0px 0px",
       "max_height": null,
       "max_width": null,
       "min_height": null,
       "min_width": null,
       "object_fit": null,
       "object_position": null,
       "order": null,
       "overflow": null,
       "padding": null,
       "right": null,
       "top": null,
       "visibility": null,
       "width": null
      }
     },
     "6eda72ce51f64c5cbbcd1b2d838ce321": {
      "model_module": "@jupyter-widgets/controls",
      "model_module_version": "2.0.0",
      "model_name": "HTMLModel",
      "state": {
       "_dom_classes": [],
       "_model_module": "@jupyter-widgets/controls",
       "_model_module_version": "2.0.0",
       "_model_name": "HTMLModel",
       "_view_count": null,
       "_view_module": "@jupyter-widgets/controls",
       "_view_module_version": "2.0.0",
       "_view_name": "HTMLView",
       "description": "",
       "description_allow_html": false,
       "layout": "IPY_MODEL_21c0797252774721875d2288861fed29",
       "placeholder": "​",
       "style": "IPY_MODEL_65fc7e985e164875908e08291f2c2be1",
       "tabbable": null,
       "tooltip": null,
       "value": "<div class=\"jp-RenderedHTMLCommon\" style=\"display: flex; flex-direction: row;\">\n  <svg viewBox=\"0 0 567 224\" fill=\"none\" xmlns=\"http://www.w3.org/2000/svg\" style=\"height: 3em;\">\n    <g clip-path=\"url(#clip0_4338_178347)\">\n        <path d=\"M341.29 165.561H355.29L330.13 129.051C345.63 123.991 354.21 112.051 354.21 94.2307C354.21 71.3707 338.72 58.1807 311.88 58.1807H271V165.561H283.27V131.661H311.8C314.25 131.661 316.71 131.501 319.01 131.351L341.25 165.561H341.29ZM283.29 119.851V70.0007H311.82C331.3 70.0007 342.34 78.2907 342.34 94.5507C342.34 111.271 331.34 119.861 311.82 119.861L283.29 119.851ZM451.4 138.411L463.4 165.561H476.74L428.74 58.1807H416L367.83 165.561H380.83L392.83 138.411H451.4ZM446.19 126.601H398L422 72.1407L446.24 126.601H446.19ZM526.11 128.741L566.91 58.1807H554.35L519.99 114.181L485.17 58.1807H472.44L514.01 129.181V165.541H526.13V128.741H526.11Z\" fill=\"var(--jp-ui-font-color0)\"/>\n        <path d=\"M82.35 104.44C84.0187 97.8827 87.8248 92.0678 93.1671 87.9146C98.5094 83.7614 105.083 81.5067 111.85 81.5067C118.617 81.5067 125.191 83.7614 130.533 87.9146C135.875 92.0678 139.681 97.8827 141.35 104.44H163.75C164.476 101.562 165.622 98.8057 167.15 96.2605L127.45 56.5605C121.071 60.3522 113.526 61.6823 106.235 60.3005C98.9443 58.9187 92.4094 54.9203 87.8602 49.0574C83.3109 43.1946 81.0609 35.8714 81.5332 28.4656C82.0056 21.0599 85.1679 14.0819 90.4252 8.8446C95.6824 3.60726 102.672 0.471508 110.08 0.0272655C117.487 -0.416977 124.802 1.86091 130.647 6.4324C136.493 11.0039 140.467 17.5539 141.821 24.8501C143.175 32.1463 141.816 39.6859 138 46.0505L177.69 85.7505C182.31 82.9877 187.58 81.4995 192.962 81.4375C198.345 81.3755 203.648 82.742 208.33 85.3976C213.012 88.0532 216.907 91.9029 219.616 96.5544C222.326 101.206 223.753 106.492 223.753 111.875C223.753 117.258 222.326 122.545 219.616 127.197C216.907 131.848 213.012 135.698 208.33 138.353C203.648 141.009 198.345 142.375 192.962 142.313C187.58 142.251 182.31 140.763 177.69 138L138 177.7C141.808 184.071 143.155 191.614 141.79 198.91C140.424 206.205 136.44 212.75 130.585 217.313C124.731 221.875 117.412 224.141 110.004 223.683C102.596 223.226 95.6103 220.077 90.3621 214.828C85.1139 209.58 81.9647 202.595 81.5072 195.187C81.0497 187.779 83.3154 180.459 87.878 174.605C92.4405 168.751 98.9853 164.766 106.281 163.401C113.576 162.035 121.119 163.383 127.49 167.19L167.19 127.49C165.664 124.941 164.518 122.182 163.79 119.3H141.39C139.721 125.858 135.915 131.673 130.573 135.826C125.231 139.98 118.657 142.234 111.89 142.234C105.123 142.234 98.5494 139.98 93.2071 135.826C87.8648 131.673 84.0587 125.858 82.39 119.3H60C58.1878 126.495 53.8086 132.78 47.6863 136.971C41.5641 141.163 34.1211 142.972 26.7579 142.059C19.3947 141.146 12.6191 137.574 7.70605 132.014C2.79302 126.454 0.0813599 119.29 0.0813599 111.87C0.0813599 104.451 2.79302 97.2871 7.70605 91.7272C12.6191 86.1673 19.3947 82.5947 26.7579 81.6817C34.1211 80.7686 41.5641 82.5781 47.6863 86.7696C53.8086 90.9611 58.1878 97.2456 60 104.44H82.35ZM100.86 204.32C103.407 206.868 106.759 208.453 110.345 208.806C113.93 209.159 117.527 208.258 120.522 206.256C123.517 204.254 125.725 201.276 126.771 197.828C127.816 194.38 127.633 190.677 126.253 187.349C124.874 184.021 122.383 181.274 119.205 179.577C116.027 177.88 112.359 177.337 108.826 178.042C105.293 178.746 102.113 180.654 99.8291 183.44C97.5451 186.226 96.2979 189.718 96.3 193.32C96.2985 195.364 96.7006 197.388 97.4831 199.275C98.2656 201.163 99.4132 202.877 100.86 204.32ZM204.32 122.88C206.868 120.333 208.453 116.981 208.806 113.396C209.159 109.811 208.258 106.214 206.256 103.219C204.254 100.223 201.275 98.0151 197.827 96.97C194.38 95.9249 190.676 96.1077 187.348 97.4873C184.02 98.8669 181.274 101.358 179.577 104.536C177.879 107.714 177.337 111.382 178.041 114.915C178.746 118.448 180.653 121.627 183.439 123.911C186.226 126.195 189.717 127.443 193.32 127.44C195.364 127.443 197.388 127.042 199.275 126.259C201.163 125.476 202.878 124.328 204.32 122.88ZM122.88 19.4205C120.333 16.8729 116.981 15.2876 113.395 14.9347C109.81 14.5817 106.213 15.483 103.218 17.4849C100.223 19.4868 98.0146 22.4654 96.9696 25.9131C95.9245 29.3608 96.1073 33.0642 97.4869 36.3922C98.8665 39.7202 101.358 42.4668 104.535 44.1639C107.713 45.861 111.381 46.4036 114.914 45.6992C118.447 44.9949 121.627 43.0871 123.911 40.301C126.195 37.515 127.442 34.0231 127.44 30.4205C127.44 28.3772 127.038 26.3539 126.255 24.4664C125.473 22.5788 124.326 20.8642 122.88 19.4205ZM19.42 100.86C16.8725 103.408 15.2872 106.76 14.9342 110.345C14.5813 113.93 15.4826 117.527 17.4844 120.522C19.4863 123.518 22.4649 125.726 25.9127 126.771C29.3604 127.816 33.0638 127.633 36.3918 126.254C39.7198 124.874 42.4664 122.383 44.1635 119.205C45.8606 116.027 46.4032 112.359 45.6988 108.826C44.9944 105.293 43.0866 102.114 40.3006 99.8296C37.5145 97.5455 34.0227 96.2983 30.42 96.3005C26.2938 96.3018 22.337 97.9421 19.42 100.86ZM100.86 100.86C98.3125 103.408 96.7272 106.76 96.3742 110.345C96.0213 113.93 96.9226 117.527 98.9244 120.522C100.926 123.518 103.905 125.726 107.353 126.771C110.8 127.816 114.504 127.633 117.832 126.254C121.16 124.874 123.906 122.383 125.604 119.205C127.301 116.027 127.843 112.359 127.139 108.826C126.434 105.293 124.527 102.114 121.741 99.8296C118.955 97.5455 115.463 96.2983 111.86 96.3005C109.817 96.299 107.793 96.701 105.905 97.4835C104.018 98.2661 102.303 99.4136 100.86 100.86Z\" fill=\"#00AEEF\"/>\n    </g>\n    <defs>\n        <clipPath id=\"clip0_4338_178347\">\n            <rect width=\"566.93\" height=\"223.75\" fill=\"white\"/>\n        </clipPath>\n    </defs>\n  </svg>\n</div>\n"
      }
     },
     "a9dca5903af24d6995ab04cce9798b75": {
      "model_module": "@jupyter-widgets/controls",
      "model_module_version": "2.0.0",
      "model_name": "ButtonStyleModel",
      "state": {
       "_model_module": "@jupyter-widgets/controls",
       "_model_module_version": "2.0.0",
       "_model_name": "ButtonStyleModel",
       "_view_count": null,
       "_view_module": "@jupyter-widgets/base",
       "_view_module_version": "2.0.0",
       "_view_name": "StyleView",
       "button_color": null,
       "font_family": null,
       "font_size": null,
       "font_style": null,
       "font_variant": null,
       "font_weight": null,
       "text_color": null,
       "text_decoration": null
      }
     },
     "afeb96ed08524e75bf54e050244b4eb8": {
      "model_module": "@jupyter-widgets/controls",
      "model_module_version": "2.0.0",
      "model_name": "ButtonModel",
      "state": {
       "_dom_classes": [],
       "_model_module": "@jupyter-widgets/controls",
       "_model_module_version": "2.0.0",
       "_model_name": "ButtonModel",
       "_view_count": null,
       "_view_module": "@jupyter-widgets/controls",
       "_view_module_version": "2.0.0",
       "_view_name": "ButtonView",
       "button_style": "",
       "description": "Disconnect",
       "disabled": false,
       "icon": "",
       "layout": "IPY_MODEL_68304c2c22844da386bcb78d5c02cc60",
       "style": "IPY_MODEL_a9dca5903af24d6995ab04cce9798b75",
       "tabbable": null,
       "tooltip": "Disconnect from the Ray cluster"
      }
     },
     "b2ecb2f25d604baca263354ffbb68aa4": {
      "model_module": "@jupyter-widgets/base",
      "model_module_version": "2.0.0",
      "model_name": "LayoutModel",
      "state": {
       "_model_module": "@jupyter-widgets/base",
       "_model_module_version": "2.0.0",
       "_model_name": "LayoutModel",
       "_view_count": null,
       "_view_module": "@jupyter-widgets/base",
       "_view_module_version": "2.0.0",
       "_view_name": "LayoutView",
       "align_content": null,
       "align_items": null,
       "align_self": null,
       "border_bottom": null,
       "border_left": null,
       "border_right": null,
       "border_top": null,
       "bottom": null,
       "display": null,
       "flex": null,
       "flex_flow": null,
       "grid_area": null,
       "grid_auto_columns": null,
       "grid_auto_flow": null,
       "grid_auto_rows": null,
       "grid_column": null,
       "grid_gap": null,
       "grid_row": null,
       "grid_template_areas": null,
       "grid_template_columns": null,
       "grid_template_rows": null,
       "height": null,
       "justify_content": null,
       "justify_items": null,
       "left": null,
       "margin": null,
       "max_height": null,
       "max_width": null,
       "min_height": null,
       "min_width": null,
       "object_fit": null,
       "object_position": null,
       "order": null,
       "overflow": null,
       "padding": null,
       "right": null,
       "top": null,
       "visibility": null,
       "width": null
      }
     },
     "d156784f6dcf47bbbc7f7bc4ca7d9614": {
      "model_module": "@jupyter-widgets/controls",
      "model_module_version": "2.0.0",
      "model_name": "HTMLModel",
      "state": {
       "_dom_classes": [],
       "_model_module": "@jupyter-widgets/controls",
       "_model_module_version": "2.0.0",
       "_model_name": "HTMLModel",
       "_view_count": null,
       "_view_module": "@jupyter-widgets/controls",
       "_view_module_version": "2.0.0",
       "_view_name": "HTMLView",
       "description": "",
       "description_allow_html": false,
       "layout": "IPY_MODEL_b2ecb2f25d604baca263354ffbb68aa4",
       "placeholder": "​",
       "style": "IPY_MODEL_517b299e67724e0eb51752238681f788",
       "tabbable": null,
       "tooltip": null,
       "value": "<table class=\"jp-RenderedHTMLCommon\" style=\"border-collapse: collapse;color: var(--jp-ui-font-color1);font-size: var(--jp-ui-font-size1);\">\n    <tr>\n        <td style=\"text-align: left\"><b>Python version:</b></td>\n        <td style=\"text-align: left\"><b>3.10.14</b></td>\n    </tr>\n    <tr>\n        <td style=\"text-align: left\"><b>Ray version:</b></td>\n        <td style=\"text-align: left\"><b>2.42.1</b></td>\n    </tr>\n    \n</table>\n"
      }
     },
     "db0c0516895c466d85bca972bf6ec9e6": {
      "model_module": "@jupyter-widgets/base",
      "model_module_version": "2.0.0",
      "model_name": "LayoutModel",
      "state": {
       "_model_module": "@jupyter-widgets/base",
       "_model_module_version": "2.0.0",
       "_model_name": "LayoutModel",
       "_view_count": null,
       "_view_module": "@jupyter-widgets/base",
       "_view_module_version": "2.0.0",
       "_view_name": "LayoutView",
       "align_content": null,
       "align_items": null,
       "align_self": null,
       "border_bottom": null,
       "border_left": null,
       "border_right": null,
       "border_top": null,
       "bottom": null,
       "display": null,
       "flex": null,
       "flex_flow": null,
       "grid_area": null,
       "grid_auto_columns": null,
       "grid_auto_flow": null,
       "grid_auto_rows": null,
       "grid_column": null,
       "grid_gap": null,
       "grid_row": null,
       "grid_template_areas": null,
       "grid_template_columns": null,
       "grid_template_rows": null,
       "height": null,
       "justify_content": null,
       "justify_items": null,
       "left": null,
       "margin": null,
       "max_height": null,
       "max_width": null,
       "min_height": null,
       "min_width": null,
       "object_fit": null,
       "object_position": null,
       "order": null,
       "overflow": null,
       "padding": null,
       "right": null,
       "top": null,
       "visibility": null,
       "width": "100%"
      }
     }
    },
    "version_major": 2,
    "version_minor": 0
   }
  }
 },
 "nbformat": 4,
 "nbformat_minor": 5
}

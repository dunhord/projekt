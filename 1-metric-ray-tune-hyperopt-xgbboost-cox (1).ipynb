{
 "cells": [
  {
   "cell_type": "markdown",
   "id": "e8a14a65",
   "metadata": {
    "papermill": {
     "duration": 0.005825,
     "end_time": "2025-05-24T16:00:35.837863",
     "exception": false,
     "start_time": "2025-05-24T16:00:35.832038",
     "status": "completed"
    },
    "tags": []
   },
   "source": [
    "# Pip Install Libraries for Metric"
   ]
  },
  {
   "cell_type": "code",
   "execution_count": 1,
   "id": "132285ca",
   "metadata": {
    "_kg_hide-output": true,
    "execution": {
     "iopub.execute_input": "2025-05-24T16:00:35.849244Z",
     "iopub.status.busy": "2025-05-24T16:00:35.848809Z",
     "iopub.status.idle": "2025-05-24T16:04:14.423733Z",
     "shell.execute_reply": "2025-05-24T16:04:14.422227Z"
    },
    "papermill": {
     "duration": 218.584302,
     "end_time": "2025-05-24T16:04:14.427236",
     "exception": false,
     "start_time": "2025-05-24T16:00:35.842934",
     "status": "completed"
    },
    "tags": []
   },
   "outputs": [
    {
     "name": "stdout",
     "output_type": "stream",
     "text": [
      "Processing /kaggle/input/pip-install-lifelines/autograd-1.7.0-py3-none-any.whl\r\n",
      "Requirement already satisfied: numpy in /opt/conda/lib/python3.10/site-packages (from autograd==1.7.0) (1.26.4)\r\n",
      "Installing collected packages: autograd\r\n",
      "Successfully installed autograd-1.7.0\r\n",
      "Processing /kaggle/input/pip-install-lifelines/autograd-gamma-0.5.0.tar.gz\r\n",
      "  Preparing metadata (setup.py) ... \u001b[?25l-\b \bdone\r\n",
      "\u001b[?25hRequirement already satisfied: autograd>=1.2.0 in /opt/conda/lib/python3.10/site-packages (from autograd-gamma==0.5.0) (1.7.0)\r\n",
      "Requirement already satisfied: scipy>=1.2.0 in /opt/conda/lib/python3.10/site-packages (from autograd-gamma==0.5.0) (1.14.1)\r\n",
      "Requirement already satisfied: numpy in /opt/conda/lib/python3.10/site-packages (from autograd>=1.2.0->autograd-gamma==0.5.0) (1.26.4)\r\n",
      "Building wheels for collected packages: autograd-gamma\r\n",
      "  Building wheel for autograd-gamma (setup.py) ... \u001b[?25l-\b \b\\\b \bdone\r\n",
      "\u001b[?25h  Created wheel for autograd-gamma: filename=autograd_gamma-0.5.0-py3-none-any.whl size=4030 sha256=f54a6787d5454cfd2eba23c17cc5710d50561cd3a01e05b407befbc83eab4c23\r\n",
      "  Stored in directory: /root/.cache/pip/wheels/6b/b5/e0/4c79e15c0b5f2c15ecf613c720bb20daab20a666eb67135155\r\n",
      "Successfully built autograd-gamma\r\n",
      "Installing collected packages: autograd-gamma\r\n",
      "Successfully installed autograd-gamma-0.5.0\r\n",
      "Processing /kaggle/input/pip-install-lifelines/interface_meta-1.3.0-py3-none-any.whl\r\n",
      "Installing collected packages: interface-meta\r\n",
      "Successfully installed interface-meta-1.3.0\r\n",
      "Processing /kaggle/input/pip-install-lifelines/formulaic-1.0.2-py3-none-any.whl\r\n",
      "Requirement already satisfied: interface-meta>=1.2.0 in /opt/conda/lib/python3.10/site-packages (from formulaic==1.0.2) (1.3.0)\r\n",
      "Requirement already satisfied: numpy>=1.16.5 in /opt/conda/lib/python3.10/site-packages (from formulaic==1.0.2) (1.26.4)\r\n",
      "Requirement already satisfied: pandas>=1.0 in /opt/conda/lib/python3.10/site-packages (from formulaic==1.0.2) (2.2.3)\r\n",
      "Requirement already satisfied: scipy>=1.6 in /opt/conda/lib/python3.10/site-packages (from formulaic==1.0.2) (1.14.1)\r\n",
      "Requirement already satisfied: typing-extensions>=4.2.0 in /opt/conda/lib/python3.10/site-packages (from formulaic==1.0.2) (4.12.2)\r\n",
      "Requirement already satisfied: wrapt>=1.0 in /opt/conda/lib/python3.10/site-packages (from formulaic==1.0.2) (1.16.0)\r\n",
      "Requirement already satisfied: python-dateutil>=2.8.2 in /opt/conda/lib/python3.10/site-packages (from pandas>=1.0->formulaic==1.0.2) (2.9.0.post0)\r\n",
      "Requirement already satisfied: pytz>=2020.1 in /opt/conda/lib/python3.10/site-packages (from pandas>=1.0->formulaic==1.0.2) (2024.1)\r\n",
      "Requirement already satisfied: tzdata>=2022.7 in /opt/conda/lib/python3.10/site-packages (from pandas>=1.0->formulaic==1.0.2) (2024.1)\r\n",
      "Requirement already satisfied: six>=1.5 in /opt/conda/lib/python3.10/site-packages (from python-dateutil>=2.8.2->pandas>=1.0->formulaic==1.0.2) (1.16.0)\r\n",
      "Installing collected packages: formulaic\r\n",
      "Successfully installed formulaic-1.0.2\r\n",
      "Processing /kaggle/input/pip-install-lifelines/lifelines-0.30.0-py3-none-any.whl\r\n",
      "Requirement already satisfied: numpy>=1.14.0 in /opt/conda/lib/python3.10/site-packages (from lifelines==0.30.0) (1.26.4)\r\n",
      "Requirement already satisfied: scipy>=1.7.0 in /opt/conda/lib/python3.10/site-packages (from lifelines==0.30.0) (1.14.1)\r\n",
      "Requirement already satisfied: pandas>=2.1 in /opt/conda/lib/python3.10/site-packages (from lifelines==0.30.0) (2.2.3)\r\n",
      "Requirement already satisfied: matplotlib>=3.0 in /opt/conda/lib/python3.10/site-packages (from lifelines==0.30.0) (3.7.5)\r\n",
      "Requirement already satisfied: autograd>=1.5 in /opt/conda/lib/python3.10/site-packages (from lifelines==0.30.0) (1.7.0)\r\n",
      "Requirement already satisfied: autograd-gamma>=0.3 in /opt/conda/lib/python3.10/site-packages (from lifelines==0.30.0) (0.5.0)\r\n",
      "Requirement already satisfied: formulaic>=0.2.2 in /opt/conda/lib/python3.10/site-packages (from lifelines==0.30.0) (1.0.2)\r\n",
      "Requirement already satisfied: interface-meta>=1.2.0 in /opt/conda/lib/python3.10/site-packages (from formulaic>=0.2.2->lifelines==0.30.0) (1.3.0)\r\n",
      "Requirement already satisfied: typing-extensions>=4.2.0 in /opt/conda/lib/python3.10/site-packages (from formulaic>=0.2.2->lifelines==0.30.0) (4.12.2)\r\n",
      "Requirement already satisfied: wrapt>=1.0 in /opt/conda/lib/python3.10/site-packages (from formulaic>=0.2.2->lifelines==0.30.0) (1.16.0)\r\n",
      "Requirement already satisfied: contourpy>=1.0.1 in /opt/conda/lib/python3.10/site-packages (from matplotlib>=3.0->lifelines==0.30.0) (1.2.1)\r\n",
      "Requirement already satisfied: cycler>=0.10 in /opt/conda/lib/python3.10/site-packages (from matplotlib>=3.0->lifelines==0.30.0) (0.12.1)\r\n",
      "Requirement already satisfied: fonttools>=4.22.0 in /opt/conda/lib/python3.10/site-packages (from matplotlib>=3.0->lifelines==0.30.0) (4.53.0)\r\n",
      "Requirement already satisfied: kiwisolver>=1.0.1 in /opt/conda/lib/python3.10/site-packages (from matplotlib>=3.0->lifelines==0.30.0) (1.4.5)\r\n",
      "Requirement already satisfied: packaging>=20.0 in /opt/conda/lib/python3.10/site-packages (from matplotlib>=3.0->lifelines==0.30.0) (21.3)\r\n",
      "Requirement already satisfied: pillow>=6.2.0 in /opt/conda/lib/python3.10/site-packages (from matplotlib>=3.0->lifelines==0.30.0) (10.3.0)\r\n",
      "Requirement already satisfied: pyparsing>=2.3.1 in /opt/conda/lib/python3.10/site-packages (from matplotlib>=3.0->lifelines==0.30.0) (3.1.2)\r\n",
      "Requirement already satisfied: python-dateutil>=2.7 in /opt/conda/lib/python3.10/site-packages (from matplotlib>=3.0->lifelines==0.30.0) (2.9.0.post0)\r\n",
      "Requirement already satisfied: pytz>=2020.1 in /opt/conda/lib/python3.10/site-packages (from pandas>=2.1->lifelines==0.30.0) (2024.1)\r\n",
      "Requirement already satisfied: tzdata>=2022.7 in /opt/conda/lib/python3.10/site-packages (from pandas>=2.1->lifelines==0.30.0) (2024.1)\r\n",
      "Requirement already satisfied: six>=1.5 in /opt/conda/lib/python3.10/site-packages (from python-dateutil>=2.7->matplotlib>=3.0->lifelines==0.30.0) (1.16.0)\r\n",
      "Installing collected packages: lifelines\r\n",
      "Successfully installed lifelines-0.30.0\r\n"
     ]
    }
   ],
   "source": [
    "!pip install /kaggle/input/pip-install-lifelines/autograd-1.7.0-py3-none-any.whl\n",
    "!pip install /kaggle/input/pip-install-lifelines/autograd-gamma-0.5.0.tar.gz\n",
    "!pip install /kaggle/input/pip-install-lifelines/interface_meta-1.3.0-py3-none-any.whl\n",
    "!pip install /kaggle/input/pip-install-lifelines/formulaic-1.0.2-py3-none-any.whl\n",
    "!pip install /kaggle/input/pip-install-lifelines/lifelines-0.30.0-py3-none-any.whl"
   ]
  },
  {
   "cell_type": "code",
   "execution_count": 2,
   "id": "581725d0",
   "metadata": {
    "execution": {
     "iopub.execute_input": "2025-05-24T16:04:14.442660Z",
     "iopub.status.busy": "2025-05-24T16:04:14.442213Z",
     "iopub.status.idle": "2025-05-24T16:05:51.965156Z",
     "shell.execute_reply": "2025-05-24T16:05:51.963826Z"
    },
    "papermill": {
     "duration": 97.533842,
     "end_time": "2025-05-24T16:05:51.968059",
     "exception": false,
     "start_time": "2025-05-24T16:04:14.434217",
     "status": "completed"
    },
    "tags": []
   },
   "outputs": [
    {
     "name": "stdout",
     "output_type": "stream",
     "text": [
      "Processing /kaggle/input/pip-install-ray-tun-hyperopt/output/ray-2.42.1-cp310-cp310-manylinux2014_x86_64.whl\r\n",
      "Requirement already satisfied: click>=7.0 in /opt/conda/lib/python3.10/site-packages (from ray==2.42.1) (8.1.7)\r\n",
      "Requirement already satisfied: filelock in /opt/conda/lib/python3.10/site-packages (from ray==2.42.1) (3.15.1)\r\n",
      "Requirement already satisfied: jsonschema in /opt/conda/lib/python3.10/site-packages (from ray==2.42.1) (4.22.0)\r\n",
      "Requirement already satisfied: msgpack<2.0.0,>=1.0.0 in /opt/conda/lib/python3.10/site-packages (from ray==2.42.1) (1.0.8)\r\n",
      "Requirement already satisfied: packaging in /opt/conda/lib/python3.10/site-packages (from ray==2.42.1) (21.3)\r\n",
      "Requirement already satisfied: protobuf!=3.19.5,>=3.15.3 in /opt/conda/lib/python3.10/site-packages (from ray==2.42.1) (3.20.3)\r\n",
      "Requirement already satisfied: pyyaml in /opt/conda/lib/python3.10/site-packages (from ray==2.42.1) (6.0.2)\r\n",
      "Requirement already satisfied: aiosignal in /opt/conda/lib/python3.10/site-packages (from ray==2.42.1) (1.3.1)\r\n",
      "Requirement already satisfied: frozenlist in /opt/conda/lib/python3.10/site-packages (from ray==2.42.1) (1.4.1)\r\n",
      "Requirement already satisfied: requests in /opt/conda/lib/python3.10/site-packages (from ray==2.42.1) (2.32.3)\r\n",
      "Requirement already satisfied: attrs>=22.2.0 in /opt/conda/lib/python3.10/site-packages (from jsonschema->ray==2.42.1) (23.2.0)\r\n",
      "Requirement already satisfied: jsonschema-specifications>=2023.03.6 in /opt/conda/lib/python3.10/site-packages (from jsonschema->ray==2.42.1) (2023.12.1)\r\n",
      "Requirement already satisfied: referencing>=0.28.4 in /opt/conda/lib/python3.10/site-packages (from jsonschema->ray==2.42.1) (0.35.1)\r\n",
      "Requirement already satisfied: rpds-py>=0.7.1 in /opt/conda/lib/python3.10/site-packages (from jsonschema->ray==2.42.1) (0.18.1)\r\n",
      "Requirement already satisfied: pyparsing!=3.0.5,>=2.0.2 in /opt/conda/lib/python3.10/site-packages (from packaging->ray==2.42.1) (3.1.2)\r\n",
      "Requirement already satisfied: charset-normalizer<4,>=2 in /opt/conda/lib/python3.10/site-packages (from requests->ray==2.42.1) (3.3.2)\r\n",
      "Requirement already satisfied: idna<4,>=2.5 in /opt/conda/lib/python3.10/site-packages (from requests->ray==2.42.1) (3.7)\r\n",
      "Requirement already satisfied: urllib3<3,>=1.21.1 in /opt/conda/lib/python3.10/site-packages (from requests->ray==2.42.1) (1.26.18)\r\n",
      "Requirement already satisfied: certifi>=2017.4.17 in /opt/conda/lib/python3.10/site-packages (from requests->ray==2.42.1) (2024.6.2)\r\n",
      "Installing collected packages: ray\r\n",
      "  Attempting uninstall: ray\r\n",
      "    Found existing installation: ray 2.24.0\r\n",
      "    Uninstalling ray-2.24.0:\r\n",
      "      Successfully uninstalled ray-2.24.0\r\n",
      "Successfully installed ray-2.42.1\r\n",
      "Processing /kaggle/input/pip-install-ray-tun-hyperopt/output/hyperopt-0.2.7-py2.py3-none-any.whl\r\n",
      "Requirement already satisfied: numpy in /opt/conda/lib/python3.10/site-packages (from hyperopt==0.2.7) (1.26.4)\r\n",
      "Requirement already satisfied: scipy in /opt/conda/lib/python3.10/site-packages (from hyperopt==0.2.7) (1.14.1)\r\n",
      "Requirement already satisfied: six in /opt/conda/lib/python3.10/site-packages (from hyperopt==0.2.7) (1.16.0)\r\n",
      "Requirement already satisfied: networkx>=2.2 in /opt/conda/lib/python3.10/site-packages (from hyperopt==0.2.7) (3.3)\r\n",
      "Requirement already satisfied: future in /opt/conda/lib/python3.10/site-packages (from hyperopt==0.2.7) (1.0.0)\r\n",
      "Requirement already satisfied: tqdm in /opt/conda/lib/python3.10/site-packages (from hyperopt==0.2.7) (4.66.4)\r\n",
      "Requirement already satisfied: cloudpickle in /opt/conda/lib/python3.10/site-packages (from hyperopt==0.2.7) (3.1.0)\r\n",
      "Requirement already satisfied: py4j in /opt/conda/lib/python3.10/site-packages (from hyperopt==0.2.7) (0.10.9.7)\r\n",
      "hyperopt is already installed with the same version as the provided wheel. Use --force-reinstall to force an installation of the wheel.\r\n"
     ]
    }
   ],
   "source": [
    "!pip install /kaggle/input/pip-install-ray-tun-hyperopt/output/ray-2.42.1-cp310-cp310-manylinux2014_x86_64.whl\n",
    "!pip install /kaggle/input/pip-install-ray-tun-hyperopt/output/hyperopt-0.2.7-py2.py3-none-any.whl"
   ]
  },
  {
   "cell_type": "markdown",
   "id": "5bb971cc",
   "metadata": {
    "papermill": {
     "duration": 0.006692,
     "end_time": "2025-05-24T16:05:51.981983",
     "exception": false,
     "start_time": "2025-05-24T16:05:51.975291",
     "status": "completed"
    },
    "tags": []
   },
   "source": [
    "# Imports"
   ]
  },
  {
   "cell_type": "code",
   "execution_count": 3,
   "id": "f2781489",
   "metadata": {
    "_cell_guid": "b1076dfc-b9ad-4769-8c92-a6c4dae69d19",
    "_uuid": "8f2839f25d086af736a60e9eeb907d3b93b6e0e5",
    "execution": {
     "iopub.execute_input": "2025-05-24T16:05:51.997979Z",
     "iopub.status.busy": "2025-05-24T16:05:51.997573Z",
     "iopub.status.idle": "2025-05-24T16:05:59.252415Z",
     "shell.execute_reply": "2025-05-24T16:05:59.251111Z"
    },
    "papermill": {
     "duration": 7.2662,
     "end_time": "2025-05-24T16:05:59.255080",
     "exception": false,
     "start_time": "2025-05-24T16:05:51.988880",
     "status": "completed"
    },
    "tags": []
   },
   "outputs": [],
   "source": [
    "import os\n",
    "import matplotlib.pyplot as plt\n",
    "\n",
    "\n",
    "import ray\n",
    "from ray import tune\n",
    "from ray.tune.schedulers import ASHAScheduler\n",
    "from ray.tune.search.hyperopt import HyperOptSearch\n",
    "\n",
    "import numpy as np\n",
    "import pandas as pd\n",
    "from sklearn.model_selection import KFold\n",
    "from lifelines.utils import concordance_index\n",
    "from lifelines import KaplanMeierFitter\n",
    "\n",
    "\n",
    "from xgboost import XGBRegressor\n",
    "from catboost import CatBoostRegressor\n",
    "import lightgbm as lgb\n",
    "from metric import score"
   ]
  },
  {
   "cell_type": "code",
   "execution_count": 4,
   "id": "bd78bab4",
   "metadata": {
    "execution": {
     "iopub.execute_input": "2025-05-24T16:05:59.272209Z",
     "iopub.status.busy": "2025-05-24T16:05:59.270570Z",
     "iopub.status.idle": "2025-05-24T16:05:59.742553Z",
     "shell.execute_reply": "2025-05-24T16:05:59.741255Z"
    },
    "papermill": {
     "duration": 0.482965,
     "end_time": "2025-05-24T16:05:59.745162",
     "exception": false,
     "start_time": "2025-05-24T16:05:59.262197",
     "status": "completed"
    },
    "tags": []
   },
   "outputs": [
    {
     "name": "stdout",
     "output_type": "stream",
     "text": [
      "Test shape: (3, 58)\n",
      "Train shape: (28800, 60)\n"
     ]
    }
   ],
   "source": [
    "test = pd.read_csv(\"/kaggle/input/equity-post-HCT-survival-predictions/test.csv\")\n",
    "print(\"Test shape:\", test.shape )\n",
    "\n",
    "train = pd.read_csv(\"/kaggle/input/equity-post-HCT-survival-predictions/train.csv\")\n",
    "print(\"Train shape:\",train.shape)"
   ]
  },
  {
   "cell_type": "markdown",
   "id": "63ddfa33",
   "metadata": {
    "papermill": {
     "duration": 0.006901,
     "end_time": "2025-05-24T16:05:59.759408",
     "exception": false,
     "start_time": "2025-05-24T16:05:59.752507",
     "status": "completed"
    },
    "tags": []
   },
   "source": [
    "## efs und efs_time mit KaplanMeier in einem Ziel umwandeln\n",
    "In diesem Wettbewerb müssen wir den Risk Score vorhersagen. Daher werden wir ein Ziel erstellen, das den Risk Score nachahmt, um unser Modell zu trainieren."
   ]
  },
  {
   "cell_type": "code",
   "execution_count": 5,
   "id": "258a94c8",
   "metadata": {
    "execution": {
     "iopub.execute_input": "2025-05-24T16:05:59.775646Z",
     "iopub.status.busy": "2025-05-24T16:05:59.775205Z",
     "iopub.status.idle": "2025-05-24T16:05:59.861100Z",
     "shell.execute_reply": "2025-05-24T16:05:59.859839Z"
    },
    "papermill": {
     "duration": 0.097175,
     "end_time": "2025-05-24T16:05:59.863778",
     "exception": false,
     "start_time": "2025-05-24T16:05:59.766603",
     "status": "completed"
    },
    "tags": []
   },
   "outputs": [],
   "source": [
    "def transform_survival_probability(df, time_col='efs_time', event_col='efs'):\n",
    "    kmf = KaplanMeierFitter()\n",
    "    kmf.fit(df[time_col], df[event_col])\n",
    "    y = kmf.survival_function_at_times(df[time_col]).values\n",
    "    return y\n",
    "train[\"y\"] = transform_survival_probability(train, time_col='efs_time', event_col='efs')"
   ]
  },
  {
   "cell_type": "markdown",
   "id": "e5d7c27b",
   "metadata": {
    "papermill": {
     "duration": 0.006895,
     "end_time": "2025-05-24T16:05:59.877876",
     "exception": false,
     "start_time": "2025-05-24T16:05:59.870981",
     "status": "completed"
    },
    "tags": []
   },
   "source": [
    "## Features\n",
    "Es gibt insgesamt 57 Features. Davon sind 35 kategorisch und 22 numerisch. Wir werden die kategorialen Features mit Label Encoding kodieren. Das Modell wird diese dann als kategoriale Features akzeptieren und intern speziell verarbeiten. Die fehlenden Werte (NANs) bei den numerischen Features lassen wir unverändert, da das Modell, das wir trainieren, mit NANs umgehen kann und diese Information nutzen wird."
   ]
  },
  {
   "cell_type": "markdown",
   "id": "bddf650c",
   "metadata": {
    "papermill": {
     "duration": 0.00686,
     "end_time": "2025-05-24T16:05:59.891707",
     "exception": false,
     "start_time": "2025-05-24T16:05:59.884847",
     "status": "completed"
    },
    "tags": []
   },
   "source": [
    "1. Auswahl der Features"
   ]
  },
  {
   "cell_type": "code",
   "execution_count": 6,
   "id": "8eecc1c1",
   "metadata": {
    "execution": {
     "iopub.execute_input": "2025-05-24T16:05:59.908516Z",
     "iopub.status.busy": "2025-05-24T16:05:59.908083Z",
     "iopub.status.idle": "2025-05-24T16:05:59.914905Z",
     "shell.execute_reply": "2025-05-24T16:05:59.913491Z"
    },
    "papermill": {
     "duration": 0.018323,
     "end_time": "2025-05-24T16:05:59.917291",
     "exception": false,
     "start_time": "2025-05-24T16:05:59.898968",
     "status": "completed"
    },
    "tags": []
   },
   "outputs": [
    {
     "name": "stdout",
     "output_type": "stream",
     "text": [
      "There are 57 FEATURES: ['dri_score', 'psych_disturb', 'cyto_score', 'diabetes', 'hla_match_c_high', 'hla_high_res_8', 'tbi_status', 'arrhythmia', 'hla_low_res_6', 'graft_type', 'vent_hist', 'renal_issue', 'pulm_severe', 'prim_disease_hct', 'hla_high_res_6', 'cmv_status', 'hla_high_res_10', 'hla_match_dqb1_high', 'tce_imm_match', 'hla_nmdp_6', 'hla_match_c_low', 'rituximab', 'hla_match_drb1_low', 'hla_match_dqb1_low', 'prod_type', 'cyto_score_detail', 'conditioning_intensity', 'ethnicity', 'year_hct', 'obesity', 'mrd_hct', 'in_vivo_tcd', 'tce_match', 'hla_match_a_high', 'hepatic_severe', 'donor_age', 'prior_tumor', 'hla_match_b_low', 'peptic_ulcer', 'age_at_hct', 'hla_match_a_low', 'gvhd_proph', 'rheum_issue', 'sex_match', 'hla_match_b_high', 'race_group', 'comorbidity_score', 'karnofsky_score', 'hepatic_mild', 'tce_div_match', 'donor_related', 'melphalan_dose', 'hla_low_res_8', 'cardiac', 'hla_match_drb1_high', 'pulm_moderate', 'hla_low_res_10']\n"
     ]
    }
   ],
   "source": [
    "RMV = [\"ID\",\"efs\",\"efs_time\",\"y\"]\n",
    "FEATURES = [c for c in train.columns if not c in RMV]\n",
    "print(f\"There are {len(FEATURES)} FEATURES: {FEATURES}\")"
   ]
  },
  {
   "cell_type": "markdown",
   "id": "8dd6da06",
   "metadata": {
    "papermill": {
     "duration": 0.007355,
     "end_time": "2025-05-24T16:05:59.932304",
     "exception": false,
     "start_time": "2025-05-24T16:05:59.924949",
     "status": "completed"
    },
    "tags": []
   },
   "source": [
    "2. Identifikation und Bearbeitung von kategorialen Features"
   ]
  },
  {
   "cell_type": "code",
   "execution_count": 7,
   "id": "538c58a5",
   "metadata": {
    "execution": {
     "iopub.execute_input": "2025-05-24T16:05:59.948941Z",
     "iopub.status.busy": "2025-05-24T16:05:59.948562Z",
     "iopub.status.idle": "2025-05-24T16:06:00.057113Z",
     "shell.execute_reply": "2025-05-24T16:06:00.055830Z"
    },
    "papermill": {
     "duration": 0.119658,
     "end_time": "2025-05-24T16:06:00.059707",
     "exception": false,
     "start_time": "2025-05-24T16:05:59.940049",
     "status": "completed"
    },
    "tags": []
   },
   "outputs": [
    {
     "name": "stdout",
     "output_type": "stream",
     "text": [
      "In these features, there are 35 CATEGORICAL FEATURES: ['dri_score', 'psych_disturb', 'cyto_score', 'diabetes', 'tbi_status', 'arrhythmia', 'graft_type', 'vent_hist', 'renal_issue', 'pulm_severe', 'prim_disease_hct', 'cmv_status', 'tce_imm_match', 'rituximab', 'prod_type', 'cyto_score_detail', 'conditioning_intensity', 'ethnicity', 'obesity', 'mrd_hct', 'in_vivo_tcd', 'tce_match', 'hepatic_severe', 'prior_tumor', 'peptic_ulcer', 'gvhd_proph', 'rheum_issue', 'sex_match', 'race_group', 'hepatic_mild', 'tce_div_match', 'donor_related', 'melphalan_dose', 'cardiac', 'pulm_moderate']\n"
     ]
    }
   ],
   "source": [
    "CATS = []\n",
    "for c in FEATURES:\n",
    "    if train[c].dtype==\"object\":\n",
    "        CATS.append(c)\n",
    "        train[c] = train[c].fillna(\"NAN\")\n",
    "        test[c] = test[c].fillna(\"NAN\")\n",
    "print(f\"In these features, there are {len(CATS)} CATEGORICAL FEATURES: {CATS}\")"
   ]
  },
  {
   "cell_type": "markdown",
   "id": "9e8ea641",
   "metadata": {
    "papermill": {
     "duration": 0.007093,
     "end_time": "2025-05-24T16:06:00.074170",
     "exception": false,
     "start_time": "2025-05-24T16:06:00.067077",
     "status": "completed"
    },
    "tags": []
   },
   "source": [
    "3.Dieser Code kombiniert die train- und test-Datensätze, kodiert kategoriale Features mit Label Encoding und konvertiert sie in den category-Typ, reduziert die Präzision numerischer Features auf float32 und int32 zur Speicheroptimierung und teilt die Datensätze anschließend wieder in train und test auf."
   ]
  },
  {
   "cell_type": "code",
   "execution_count": 8,
   "id": "539ccede",
   "metadata": {
    "execution": {
     "iopub.execute_input": "2025-05-24T16:06:00.091057Z",
     "iopub.status.busy": "2025-05-24T16:06:00.090654Z",
     "iopub.status.idle": "2025-05-24T16:06:00.275171Z",
     "shell.execute_reply": "2025-05-24T16:06:00.273783Z"
    },
    "papermill": {
     "duration": 0.19743,
     "end_time": "2025-05-24T16:06:00.278914",
     "exception": false,
     "start_time": "2025-05-24T16:06:00.081484",
     "status": "completed"
    },
    "tags": []
   },
   "outputs": [
    {
     "name": "stdout",
     "output_type": "stream",
     "text": [
      "We LABEL ENCODE the CATEGORICAL FEATURES: dri_score, psych_disturb, cyto_score, diabetes, tbi_status, arrhythmia, graft_type, vent_hist, renal_issue, pulm_severe, prim_disease_hct, cmv_status, tce_imm_match, rituximab, prod_type, cyto_score_detail, conditioning_intensity, ethnicity, obesity, mrd_hct, in_vivo_tcd, tce_match, hepatic_severe, prior_tumor, peptic_ulcer, gvhd_proph, rheum_issue, sex_match, race_group, hepatic_mild, tce_div_match, donor_related, melphalan_dose, cardiac, pulm_moderate, "
     ]
    }
   ],
   "source": [
    "combined = pd.concat([train,test],axis=0,ignore_index=True)\n",
    "#print(\"Combined data shape:\", combined.shape )\n",
    "\n",
    "# LABEL ENCODE CATEGORICAL FEATURES\n",
    "print(\"We LABEL ENCODE the CATEGORICAL FEATURES: \",end=\"\")\n",
    "for c in FEATURES:\n",
    "\n",
    "    # LABEL ENCODE CATEGORICAL AND CONVERT TO INT32 CATEGORY\n",
    "    if c in CATS:\n",
    "        print(f\"{c}, \",end=\"\")\n",
    "        combined[c],_ = combined[c].factorize()\n",
    "        combined[c] -= combined[c].min()\n",
    "        combined[c] = combined[c].astype(\"int32\")\n",
    "        combined[c] = combined[c].astype(\"category\")\n",
    "        \n",
    "    # REDUCE PRECISION OF NUMERICAL TO 32BIT TO SAVE MEMORY\n",
    "    else:\n",
    "        if combined[c].dtype==\"float64\":\n",
    "            combined[c] = combined[c].astype(\"float32\")\n",
    "        if combined[c].dtype==\"int64\":\n",
    "            combined[c] = combined[c].astype(\"int32\")\n",
    "    \n",
    "train = combined.iloc[:len(train)].copy()\n",
    "test = combined.iloc[len(train):].reset_index(drop=True).copy()"
   ]
  },
  {
   "cell_type": "markdown",
   "id": "696b91bc",
   "metadata": {
    "papermill": {
     "duration": 0.007146,
     "end_time": "2025-05-24T16:06:00.293872",
     "exception": false,
     "start_time": "2025-05-24T16:06:00.286726",
     "status": "completed"
    },
    "tags": []
   },
   "source": [
    "## Survival:Cox braucht dieses Ziel (um efs und efs_time zu verarbeiten)"
   ]
  },
  {
   "cell_type": "code",
   "execution_count": 9,
   "id": "cec6b1ee",
   "metadata": {
    "execution": {
     "iopub.execute_input": "2025-05-24T16:06:00.310722Z",
     "iopub.status.busy": "2025-05-24T16:06:00.310253Z",
     "iopub.status.idle": "2025-05-24T16:06:00.322026Z",
     "shell.execute_reply": "2025-05-24T16:06:00.320393Z"
    },
    "papermill": {
     "duration": 0.023615,
     "end_time": "2025-05-24T16:06:00.325029",
     "exception": false,
     "start_time": "2025-05-24T16:06:00.301414",
     "status": "completed"
    },
    "tags": []
   },
   "outputs": [],
   "source": [
    "train[\"efs_time2\"] = train.efs_time.copy()\n",
    "train.loc[train.efs==0,\"efs_time2\"] *= -1"
   ]
  },
  {
   "cell_type": "markdown",
   "id": "10922e19",
   "metadata": {
    "papermill": {
     "duration": 0.007243,
     "end_time": "2025-05-24T16:06:00.339670",
     "exception": false,
     "start_time": "2025-05-24T16:06:00.332427",
     "status": "completed"
    },
    "tags": []
   },
   "source": [
    "## Hier wird ein Ray-Cluster initialisiert, der ermittelt die verfügbaren Systemressourcen und legt die Ressourcen pro Durchlauf basierend auf den verfügbaren Ressourcen oder den Systemstandards fest."
   ]
  },
  {
   "cell_type": "code",
   "execution_count": 10,
   "id": "63cd2534",
   "metadata": {
    "execution": {
     "iopub.execute_input": "2025-05-24T16:06:00.357105Z",
     "iopub.status.busy": "2025-05-24T16:06:00.356676Z",
     "iopub.status.idle": "2025-05-24T16:06:05.164735Z",
     "shell.execute_reply": "2025-05-24T16:06:05.162965Z"
    },
    "papermill": {
     "duration": 4.821221,
     "end_time": "2025-05-24T16:06:05.169046",
     "exception": false,
     "start_time": "2025-05-24T16:06:00.347825",
     "status": "completed"
    },
    "tags": []
   },
   "outputs": [
    {
     "name": "stderr",
     "output_type": "stream",
     "text": [
      "2025-05-24 16:06:03,504\tINFO worker.py:1841 -- Started a local Ray instance.\n"
     ]
    },
    {
     "data": {
      "application/vnd.jupyter.widget-view+json": {
       "model_id": "dbbb062b64dd43a482fbb397f64ed205",
       "version_major": 2,
       "version_minor": 0
      },
      "text/html": [
       "<div class=\"lm-Widget p-Widget lm-Panel p-Panel jp-Cell-outputWrapper\">\n",
       "    <div style=\"margin-left: 50px;display: flex;flex-direction: row;align-items: center\">\n",
       "        <div class=\"jp-RenderedHTMLCommon\" style=\"display: flex; flex-direction: row;\">\n",
       "  <svg viewBox=\"0 0 567 224\" fill=\"none\" xmlns=\"http://www.w3.org/2000/svg\" style=\"height: 3em;\">\n",
       "    <g clip-path=\"url(#clip0_4338_178347)\">\n",
       "        <path d=\"M341.29 165.561H355.29L330.13 129.051C345.63 123.991 354.21 112.051 354.21 94.2307C354.21 71.3707 338.72 58.1807 311.88 58.1807H271V165.561H283.27V131.661H311.8C314.25 131.661 316.71 131.501 319.01 131.351L341.25 165.561H341.29ZM283.29 119.851V70.0007H311.82C331.3 70.0007 342.34 78.2907 342.34 94.5507C342.34 111.271 331.34 119.861 311.82 119.861L283.29 119.851ZM451.4 138.411L463.4 165.561H476.74L428.74 58.1807H416L367.83 165.561H380.83L392.83 138.411H451.4ZM446.19 126.601H398L422 72.1407L446.24 126.601H446.19ZM526.11 128.741L566.91 58.1807H554.35L519.99 114.181L485.17 58.1807H472.44L514.01 129.181V165.541H526.13V128.741H526.11Z\" fill=\"var(--jp-ui-font-color0)\"/>\n",
       "        <path d=\"M82.35 104.44C84.0187 97.8827 87.8248 92.0678 93.1671 87.9146C98.5094 83.7614 105.083 81.5067 111.85 81.5067C118.617 81.5067 125.191 83.7614 130.533 87.9146C135.875 92.0678 139.681 97.8827 141.35 104.44H163.75C164.476 101.562 165.622 98.8057 167.15 96.2605L127.45 56.5605C121.071 60.3522 113.526 61.6823 106.235 60.3005C98.9443 58.9187 92.4094 54.9203 87.8602 49.0574C83.3109 43.1946 81.0609 35.8714 81.5332 28.4656C82.0056 21.0599 85.1679 14.0819 90.4252 8.8446C95.6824 3.60726 102.672 0.471508 110.08 0.0272655C117.487 -0.416977 124.802 1.86091 130.647 6.4324C136.493 11.0039 140.467 17.5539 141.821 24.8501C143.175 32.1463 141.816 39.6859 138 46.0505L177.69 85.7505C182.31 82.9877 187.58 81.4995 192.962 81.4375C198.345 81.3755 203.648 82.742 208.33 85.3976C213.012 88.0532 216.907 91.9029 219.616 96.5544C222.326 101.206 223.753 106.492 223.753 111.875C223.753 117.258 222.326 122.545 219.616 127.197C216.907 131.848 213.012 135.698 208.33 138.353C203.648 141.009 198.345 142.375 192.962 142.313C187.58 142.251 182.31 140.763 177.69 138L138 177.7C141.808 184.071 143.155 191.614 141.79 198.91C140.424 206.205 136.44 212.75 130.585 217.313C124.731 221.875 117.412 224.141 110.004 223.683C102.596 223.226 95.6103 220.077 90.3621 214.828C85.1139 209.58 81.9647 202.595 81.5072 195.187C81.0497 187.779 83.3154 180.459 87.878 174.605C92.4405 168.751 98.9853 164.766 106.281 163.401C113.576 162.035 121.119 163.383 127.49 167.19L167.19 127.49C165.664 124.941 164.518 122.182 163.79 119.3H141.39C139.721 125.858 135.915 131.673 130.573 135.826C125.231 139.98 118.657 142.234 111.89 142.234C105.123 142.234 98.5494 139.98 93.2071 135.826C87.8648 131.673 84.0587 125.858 82.39 119.3H60C58.1878 126.495 53.8086 132.78 47.6863 136.971C41.5641 141.163 34.1211 142.972 26.7579 142.059C19.3947 141.146 12.6191 137.574 7.70605 132.014C2.79302 126.454 0.0813599 119.29 0.0813599 111.87C0.0813599 104.451 2.79302 97.2871 7.70605 91.7272C12.6191 86.1673 19.3947 82.5947 26.7579 81.6817C34.1211 80.7686 41.5641 82.5781 47.6863 86.7696C53.8086 90.9611 58.1878 97.2456 60 104.44H82.35ZM100.86 204.32C103.407 206.868 106.759 208.453 110.345 208.806C113.93 209.159 117.527 208.258 120.522 206.256C123.517 204.254 125.725 201.276 126.771 197.828C127.816 194.38 127.633 190.677 126.253 187.349C124.874 184.021 122.383 181.274 119.205 179.577C116.027 177.88 112.359 177.337 108.826 178.042C105.293 178.746 102.113 180.654 99.8291 183.44C97.5451 186.226 96.2979 189.718 96.3 193.32C96.2985 195.364 96.7006 197.388 97.4831 199.275C98.2656 201.163 99.4132 202.877 100.86 204.32ZM204.32 122.88C206.868 120.333 208.453 116.981 208.806 113.396C209.159 109.811 208.258 106.214 206.256 103.219C204.254 100.223 201.275 98.0151 197.827 96.97C194.38 95.9249 190.676 96.1077 187.348 97.4873C184.02 98.8669 181.274 101.358 179.577 104.536C177.879 107.714 177.337 111.382 178.041 114.915C178.746 118.448 180.653 121.627 183.439 123.911C186.226 126.195 189.717 127.443 193.32 127.44C195.364 127.443 197.388 127.042 199.275 126.259C201.163 125.476 202.878 124.328 204.32 122.88ZM122.88 19.4205C120.333 16.8729 116.981 15.2876 113.395 14.9347C109.81 14.5817 106.213 15.483 103.218 17.4849C100.223 19.4868 98.0146 22.4654 96.9696 25.9131C95.9245 29.3608 96.1073 33.0642 97.4869 36.3922C98.8665 39.7202 101.358 42.4668 104.535 44.1639C107.713 45.861 111.381 46.4036 114.914 45.6992C118.447 44.9949 121.627 43.0871 123.911 40.301C126.195 37.515 127.442 34.0231 127.44 30.4205C127.44 28.3772 127.038 26.3539 126.255 24.4664C125.473 22.5788 124.326 20.8642 122.88 19.4205ZM19.42 100.86C16.8725 103.408 15.2872 106.76 14.9342 110.345C14.5813 113.93 15.4826 117.527 17.4844 120.522C19.4863 123.518 22.4649 125.726 25.9127 126.771C29.3604 127.816 33.0638 127.633 36.3918 126.254C39.7198 124.874 42.4664 122.383 44.1635 119.205C45.8606 116.027 46.4032 112.359 45.6988 108.826C44.9944 105.293 43.0866 102.114 40.3006 99.8296C37.5145 97.5455 34.0227 96.2983 30.42 96.3005C26.2938 96.3018 22.337 97.9421 19.42 100.86ZM100.86 100.86C98.3125 103.408 96.7272 106.76 96.3742 110.345C96.0213 113.93 96.9226 117.527 98.9244 120.522C100.926 123.518 103.905 125.726 107.353 126.771C110.8 127.816 114.504 127.633 117.832 126.254C121.16 124.874 123.906 122.383 125.604 119.205C127.301 116.027 127.843 112.359 127.139 108.826C126.434 105.293 124.527 102.114 121.741 99.8296C118.955 97.5455 115.463 96.2983 111.86 96.3005C109.817 96.299 107.793 96.701 105.905 97.4835C104.018 98.2661 102.303 99.4136 100.86 100.86Z\" fill=\"#00AEEF\"/>\n",
       "    </g>\n",
       "    <defs>\n",
       "        <clipPath id=\"clip0_4338_178347\">\n",
       "            <rect width=\"566.93\" height=\"223.75\" fill=\"white\"/>\n",
       "        </clipPath>\n",
       "    </defs>\n",
       "  </svg>\n",
       "</div>\n",
       "\n",
       "        <table class=\"jp-RenderedHTMLCommon\" style=\"border-collapse: collapse;color: var(--jp-ui-font-color1);font-size: var(--jp-ui-font-size1);\">\n",
       "    <tr>\n",
       "        <td style=\"text-align: left\"><b>Python version:</b></td>\n",
       "        <td style=\"text-align: left\"><b>3.10.14</b></td>\n",
       "    </tr>\n",
       "    <tr>\n",
       "        <td style=\"text-align: left\"><b>Ray version:</b></td>\n",
       "        <td style=\"text-align: left\"><b>2.42.1</b></td>\n",
       "    </tr>\n",
       "    \n",
       "</table>\n",
       "\n",
       "    </div>\n",
       "</div>\n"
      ],
      "text/plain": [
       "RayContext(dashboard_url='', python_version='3.10.14', ray_version='2.42.1', ray_commit='c2e38f7b75be223c0c033986472daada8622d64f')"
      ]
     },
     "execution_count": 10,
     "metadata": {},
     "output_type": "execute_result"
    }
   ],
   "source": [
    "ray.init(ignore_reinit_error=True)"
   ]
  },
  {
   "cell_type": "code",
   "execution_count": 11,
   "id": "2fd1fa00",
   "metadata": {
    "execution": {
     "iopub.execute_input": "2025-05-24T16:06:05.197008Z",
     "iopub.status.busy": "2025-05-24T16:06:05.195162Z",
     "iopub.status.idle": "2025-05-24T16:06:05.204108Z",
     "shell.execute_reply": "2025-05-24T16:06:05.202592Z"
    },
    "papermill": {
     "duration": 0.02332,
     "end_time": "2025-05-24T16:06:05.207540",
     "exception": false,
     "start_time": "2025-05-24T16:06:05.184220",
     "status": "completed"
    },
    "tags": []
   },
   "outputs": [],
   "source": [
    "available_resources = ray.cluster_resources()"
   ]
  },
  {
   "cell_type": "code",
   "execution_count": 12,
   "id": "ebcc603d",
   "metadata": {
    "execution": {
     "iopub.execute_input": "2025-05-24T16:06:05.227226Z",
     "iopub.status.busy": "2025-05-24T16:06:05.226616Z",
     "iopub.status.idle": "2025-05-24T16:06:05.233910Z",
     "shell.execute_reply": "2025-05-24T16:06:05.232393Z"
    },
    "papermill": {
     "duration": 0.020211,
     "end_time": "2025-05-24T16:06:05.236576",
     "exception": false,
     "start_time": "2025-05-24T16:06:05.216365",
     "status": "completed"
    },
    "tags": []
   },
   "outputs": [],
   "source": [
    "resources_per_trial = {\n",
    "    \"cpu\": int(available_resources.get(\"CPU\", os.cpu_count())),\n",
    "    \"gpu\": int(available_resources.get(\"GPU\", 0))\n",
    "}"
   ]
  },
  {
   "cell_type": "markdown",
   "id": "fce9e395",
   "metadata": {
    "papermill": {
     "duration": 0.008595,
     "end_time": "2025-05-24T16:06:05.253928",
     "exception": false,
     "start_time": "2025-05-24T16:06:05.245333",
     "status": "completed"
    },
    "tags": []
   },
   "source": [
    "# XGBBoost Survival:Cox Hyperparameter Tunning"
   ]
  },
  {
   "cell_type": "code",
   "execution_count": 13,
   "id": "af5b2146",
   "metadata": {
    "execution": {
     "iopub.execute_input": "2025-05-24T16:06:05.275052Z",
     "iopub.status.busy": "2025-05-24T16:06:05.274580Z",
     "iopub.status.idle": "2025-05-24T16:20:35.831178Z",
     "shell.execute_reply": "2025-05-24T16:20:35.829991Z"
    },
    "papermill": {
     "duration": 870.571257,
     "end_time": "2025-05-24T16:20:35.834591",
     "exception": false,
     "start_time": "2025-05-24T16:06:05.263334",
     "status": "completed"
    },
    "tags": []
   },
   "outputs": [
    {
     "data": {
      "text/html": [
       "<div class=\"tuneStatus\">\n",
       "  <div style=\"display: flex;flex-direction: row\">\n",
       "    <div style=\"display: flex;flex-direction: column;\">\n",
       "      <h3>Tune Status</h3>\n",
       "      <table>\n",
       "<tbody>\n",
       "<tr><td>Current time:</td><td>2025-05-24 16:20:35</td></tr>\n",
       "<tr><td>Running for: </td><td>00:14:17.23        </td></tr>\n",
       "<tr><td>Memory:      </td><td>1.9/31.4 GiB       </td></tr>\n",
       "</tbody>\n",
       "</table>\n",
       "    </div>\n",
       "    <div class=\"vDivider\"></div>\n",
       "    <div class=\"systemInfo\">\n",
       "      <h3>System Info</h3>\n",
       "      Using FIFO scheduling algorithm.<br>Logical resource usage: 4.0/4 CPUs, 0/0 GPUs\n",
       "    </div>\n",
       "    \n",
       "  </div>\n",
       "  <div class=\"hDivider\"></div>\n",
       "  <div class=\"trialStatus\">\n",
       "    <h3>Trial Status</h3>\n",
       "    <table>\n",
       "<thead>\n",
       "<tr><th>Trial name        </th><th>status    </th><th>loc            </th><th style=\"text-align: right;\">  colsample_bytree</th><th style=\"text-align: right;\">   gamma</th><th style=\"text-align: right;\">  learning_rate</th><th style=\"text-align: right;\">  max_delta_step</th><th style=\"text-align: right;\">  max_depth</th><th style=\"text-align: right;\">  min_child_weight</th><th style=\"text-align: right;\">  n_estimators</th><th style=\"text-align: right;\">  reg_alpha</th><th style=\"text-align: right;\">  reg_lambda</th><th style=\"text-align: right;\">  subsample</th><th style=\"text-align: right;\">  iter</th><th style=\"text-align: right;\">  total time (s)</th><th style=\"text-align: right;\">  cv_metric</th></tr>\n",
       "</thead>\n",
       "<tbody>\n",
       "<tr><td>train_xgb_accca0f4</td><td>TERMINATED</td><td>172.19.2.2:423 </td><td style=\"text-align: right;\">          0.453931</td><td style=\"text-align: right;\">1.48542 </td><td style=\"text-align: right;\">     0.107992  </td><td style=\"text-align: right;\">               3</td><td style=\"text-align: right;\">          4</td><td style=\"text-align: right;\">                 9</td><td style=\"text-align: right;\">           526</td><td style=\"text-align: right;\">0.0182924  </td><td style=\"text-align: right;\">13.9606     </td><td style=\"text-align: right;\">   0.850625</td><td style=\"text-align: right;\">     1</td><td style=\"text-align: right;\">         26.2311</td><td style=\"text-align: right;\">   0.67046 </td></tr>\n",
       "<tr><td>train_xgb_eb607a57</td><td>TERMINATED</td><td>172.19.2.2:514 </td><td style=\"text-align: right;\">          0.206159</td><td style=\"text-align: right;\">0.322513</td><td style=\"text-align: right;\">     0.00666937</td><td style=\"text-align: right;\">               2</td><td style=\"text-align: right;\">          3</td><td style=\"text-align: right;\">                44</td><td style=\"text-align: right;\">           580</td><td style=\"text-align: right;\">0.00328115 </td><td style=\"text-align: right;\"> 0.000873082</td><td style=\"text-align: right;\">   0.417457</td><td style=\"text-align: right;\">     1</td><td style=\"text-align: right;\">         53.4342</td><td style=\"text-align: right;\">   0.651062</td></tr>\n",
       "<tr><td>train_xgb_071f3017</td><td>TERMINATED</td><td>172.19.2.2:601 </td><td style=\"text-align: right;\">          0.749267</td><td style=\"text-align: right;\">1.16853 </td><td style=\"text-align: right;\">     0.0633918 </td><td style=\"text-align: right;\">               0</td><td style=\"text-align: right;\">          3</td><td style=\"text-align: right;\">                21</td><td style=\"text-align: right;\">           537</td><td style=\"text-align: right;\">0.00011853 </td><td style=\"text-align: right;\"> 0.00494412 </td><td style=\"text-align: right;\">   0.672712</td><td style=\"text-align: right;\">     1</td><td style=\"text-align: right;\">         37.0053</td><td style=\"text-align: right;\">   0.667994</td></tr>\n",
       "<tr><td>train_xgb_6d799c7c</td><td>TERMINATED</td><td>172.19.2.2:690 </td><td style=\"text-align: right;\">          0.707295</td><td style=\"text-align: right;\">1.65358 </td><td style=\"text-align: right;\">     0.00235422</td><td style=\"text-align: right;\">               2</td><td style=\"text-align: right;\">          9</td><td style=\"text-align: right;\">                35</td><td style=\"text-align: right;\">          2573</td><td style=\"text-align: right;\">0.0144503  </td><td style=\"text-align: right;\">16.2235     </td><td style=\"text-align: right;\">   0.751359</td><td style=\"text-align: right;\">     1</td><td style=\"text-align: right;\">        476.743 </td><td style=\"text-align: right;\">   0.668686</td></tr>\n",
       "<tr><td>train_xgb_9da28518</td><td>TERMINATED</td><td>172.19.2.2:819 </td><td style=\"text-align: right;\">          0.896878</td><td style=\"text-align: right;\">1.24891 </td><td style=\"text-align: right;\">     0.125141  </td><td style=\"text-align: right;\">               2</td><td style=\"text-align: right;\">          7</td><td style=\"text-align: right;\">                37</td><td style=\"text-align: right;\">          1728</td><td style=\"text-align: right;\">0.0484808  </td><td style=\"text-align: right;\"> 0.00170708 </td><td style=\"text-align: right;\">   0.618542</td><td style=\"text-align: right;\">     1</td><td style=\"text-align: right;\">         15.3056</td><td style=\"text-align: right;\">   0.663967</td></tr>\n",
       "<tr><td>train_xgb_fa63d302</td><td>TERMINATED</td><td>172.19.2.2:903 </td><td style=\"text-align: right;\">          0.88536 </td><td style=\"text-align: right;\">0.672458</td><td style=\"text-align: right;\">     0.0161645 </td><td style=\"text-align: right;\">               1</td><td style=\"text-align: right;\">          4</td><td style=\"text-align: right;\">                32</td><td style=\"text-align: right;\">           454</td><td style=\"text-align: right;\">0.0283521  </td><td style=\"text-align: right;\">42.3497     </td><td style=\"text-align: right;\">   0.737136</td><td style=\"text-align: right;\">     1</td><td style=\"text-align: right;\">         49.8289</td><td style=\"text-align: right;\">   0.661264</td></tr>\n",
       "<tr><td>train_xgb_e4eead07</td><td>TERMINATED</td><td>172.19.2.2:991 </td><td style=\"text-align: right;\">          0.963023</td><td style=\"text-align: right;\">0.358626</td><td style=\"text-align: right;\">     0.0213292 </td><td style=\"text-align: right;\">               3</td><td style=\"text-align: right;\">          5</td><td style=\"text-align: right;\">                 6</td><td style=\"text-align: right;\">           749</td><td style=\"text-align: right;\">0.00032068 </td><td style=\"text-align: right;\"> 0.152642   </td><td style=\"text-align: right;\">   0.707669</td><td style=\"text-align: right;\">     1</td><td style=\"text-align: right;\">         65.0476</td><td style=\"text-align: right;\">   0.668435</td></tr>\n",
       "<tr><td>train_xgb_82a9ffaa</td><td>TERMINATED</td><td>172.19.2.2:1080</td><td style=\"text-align: right;\">          0.282401</td><td style=\"text-align: right;\">0.287937</td><td style=\"text-align: right;\">     0.00853887</td><td style=\"text-align: right;\">               1</td><td style=\"text-align: right;\">          8</td><td style=\"text-align: right;\">                21</td><td style=\"text-align: right;\">            54</td><td style=\"text-align: right;\">0.000980359</td><td style=\"text-align: right;\"> 0.315105   </td><td style=\"text-align: right;\">   0.58452 </td><td style=\"text-align: right;\">     1</td><td style=\"text-align: right;\">         14.2637</td><td style=\"text-align: right;\">   0.648293</td></tr>\n",
       "<tr><td>train_xgb_40df955d</td><td>TERMINATED</td><td>172.19.2.2:1164</td><td style=\"text-align: right;\">          0.345848</td><td style=\"text-align: right;\">0.143753</td><td style=\"text-align: right;\">     0.00887403</td><td style=\"text-align: right;\">               1</td><td style=\"text-align: right;\">          3</td><td style=\"text-align: right;\">                29</td><td style=\"text-align: right;\">            89</td><td style=\"text-align: right;\">0.0052815  </td><td style=\"text-align: right;\"> 0.00063331 </td><td style=\"text-align: right;\">   0.48897 </td><td style=\"text-align: right;\">     1</td><td style=\"text-align: right;\">         11.1619</td><td style=\"text-align: right;\">   0.640519</td></tr>\n",
       "<tr><td>train_xgb_a2920c0b</td><td>TERMINATED</td><td>172.19.2.2:1247</td><td style=\"text-align: right;\">          0.882997</td><td style=\"text-align: right;\">1.7406  </td><td style=\"text-align: right;\">     0.00396346</td><td style=\"text-align: right;\">               2</td><td style=\"text-align: right;\">         10</td><td style=\"text-align: right;\">                32</td><td style=\"text-align: right;\">           251</td><td style=\"text-align: right;\">0.610784   </td><td style=\"text-align: right;\"> 0.656297   </td><td style=\"text-align: right;\">   0.749715</td><td style=\"text-align: right;\">     1</td><td style=\"text-align: right;\">         61.9401</td><td style=\"text-align: right;\">   0.656884</td></tr>\n",
       "</tbody>\n",
       "</table>\n",
       "  </div>\n",
       "</div>\n",
       "<style>\n",
       ".tuneStatus {\n",
       "  color: var(--jp-ui-font-color1);\n",
       "}\n",
       ".tuneStatus .systemInfo {\n",
       "  display: flex;\n",
       "  flex-direction: column;\n",
       "}\n",
       ".tuneStatus td {\n",
       "  white-space: nowrap;\n",
       "}\n",
       ".tuneStatus .trialStatus {\n",
       "  display: flex;\n",
       "  flex-direction: column;\n",
       "}\n",
       ".tuneStatus h3 {\n",
       "  font-weight: bold;\n",
       "}\n",
       ".tuneStatus .hDivider {\n",
       "  border-bottom-width: var(--jp-border-width);\n",
       "  border-bottom-color: var(--jp-border-color0);\n",
       "  border-bottom-style: solid;\n",
       "}\n",
       ".tuneStatus .vDivider {\n",
       "  border-left-width: var(--jp-border-width);\n",
       "  border-left-color: var(--jp-border-color0);\n",
       "  border-left-style: solid;\n",
       "  margin: 0.5em 1em 0.5em 1em;\n",
       "}\n",
       "</style>\n"
      ],
      "text/plain": [
       "<IPython.core.display.HTML object>"
      ]
     },
     "metadata": {},
     "output_type": "display_data"
    },
    {
     "name": "stderr",
     "output_type": "stream",
     "text": [
      "2025-05-24 16:20:35,770\tINFO tune.py:1009 -- Wrote the latest version of all result files and experiment state to '/root/ray_results/train_xgb_2025-05-24_16-06-05' in 0.0162s.\n",
      "2025-05-24 16:20:35,784\tINFO tune.py:1041 -- Total run time: 870.49 seconds (857.21 seconds for the tuning loop).\n"
     ]
    },
    {
     "name": "stdout",
     "output_type": "stream",
     "text": [
      "Best Hyperparameters: {'max_depth': 4, 'learning_rate': 0.10799201436131363, 'min_child_weight': 9, 'subsample': 0.8506245898832192, 'colsample_bytree': 0.45393128679854133, 'gamma': 1.4854204121880117, 'reg_lambda': 13.96058322373917, 'reg_alpha': 0.01829243576580757, 'n_estimators': 526, 'max_delta_step': 3}\n",
      "          cv_metric   timestamp checkpoint_dir_name  done  training_iteration  \\\n",
      "trial_id                                                                        \n",
      "accca0f4   0.670460  1748102809                None  True                   1   \n",
      "eb607a57   0.651062  1748102866                None  True                   1   \n",
      "071f3017   0.667994  1748102908                None  True                   1   \n",
      "6d799c7c   0.668686  1748103390                None  True                   1   \n",
      "9da28518   0.663967  1748103409                None  True                   1   \n",
      "fa63d302   0.661264  1748103464                None  True                   1   \n",
      "e4eead07   0.668435  1748103533                None  True                   1   \n",
      "82a9ffaa   0.648293  1748103552                None  True                   1   \n",
      "40df955d   0.640519  1748103568                None  True                   1   \n",
      "a2920c0b   0.656884  1748103635                None  True                   1   \n",
      "\n",
      "                         date  time_this_iter_s  time_total_s   pid  \\\n",
      "trial_id                                                              \n",
      "accca0f4  2025-05-24_16-06-49         26.231094     26.231094   423   \n",
      "eb607a57  2025-05-24_16-07-46         53.434209     53.434209   514   \n",
      "071f3017  2025-05-24_16-08-28         37.005287     37.005287   601   \n",
      "6d799c7c  2025-05-24_16-16-30        476.743383    476.743383   690   \n",
      "9da28518  2025-05-24_16-16-49         15.305578     15.305578   819   \n",
      "fa63d302  2025-05-24_16-17-44         49.828932     49.828932   903   \n",
      "e4eead07  2025-05-24_16-18-53         65.047588     65.047588   991   \n",
      "82a9ffaa  2025-05-24_16-19-12         14.263683     14.263683  1080   \n",
      "40df955d  2025-05-24_16-19-28         11.161860     11.161860  1164   \n",
      "a2920c0b  2025-05-24_16-20-35         61.940066     61.940066  1247   \n",
      "\n",
      "              hostname  ... config/max_depth  config/learning_rate  \\\n",
      "trial_id                ...                                          \n",
      "accca0f4  97819e10cfc9  ...                4              0.107992   \n",
      "eb607a57  97819e10cfc9  ...                3              0.006669   \n",
      "071f3017  97819e10cfc9  ...                3              0.063392   \n",
      "6d799c7c  97819e10cfc9  ...                9              0.002354   \n",
      "9da28518  97819e10cfc9  ...                7              0.125141   \n",
      "fa63d302  97819e10cfc9  ...                4              0.016164   \n",
      "e4eead07  97819e10cfc9  ...                5              0.021329   \n",
      "82a9ffaa  97819e10cfc9  ...                8              0.008539   \n",
      "40df955d  97819e10cfc9  ...                3              0.008874   \n",
      "a2920c0b  97819e10cfc9  ...               10              0.003963   \n",
      "\n",
      "          config/min_child_weight config/subsample  config/colsample_bytree  \\\n",
      "trial_id                                                                      \n",
      "accca0f4                        9         0.850625                 0.453931   \n",
      "eb607a57                       44         0.417457                 0.206159   \n",
      "071f3017                       21         0.672712                 0.749267   \n",
      "6d799c7c                       35         0.751359                 0.707295   \n",
      "9da28518                       37         0.618542                 0.896878   \n",
      "fa63d302                       32         0.737136                 0.885360   \n",
      "e4eead07                        6         0.707669                 0.963023   \n",
      "82a9ffaa                       21         0.584520                 0.282401   \n",
      "40df955d                       29         0.488970                 0.345848   \n",
      "a2920c0b                       32         0.749715                 0.882997   \n",
      "\n",
      "          config/gamma  config/reg_lambda  config/reg_alpha  \\\n",
      "trial_id                                                      \n",
      "accca0f4      1.485420          13.960583          0.018292   \n",
      "eb607a57      0.322513           0.000873          0.003281   \n",
      "071f3017      1.168531           0.004944          0.000119   \n",
      "6d799c7c      1.653582          16.223526          0.014450   \n",
      "9da28518      1.248909           0.001707          0.048481   \n",
      "fa63d302      0.672458          42.349692          0.028352   \n",
      "e4eead07      0.358626           0.152642          0.000321   \n",
      "82a9ffaa      0.287937           0.315105          0.000980   \n",
      "40df955d      0.143753           0.000633          0.005281   \n",
      "a2920c0b      1.740604           0.656297          0.610784   \n",
      "\n",
      "          config/n_estimators  config/max_delta_step  \n",
      "trial_id                                              \n",
      "accca0f4                  526                      3  \n",
      "eb607a57                  580                      2  \n",
      "071f3017                  537                      0  \n",
      "6d799c7c                 2573                      2  \n",
      "9da28518                 1728                      2  \n",
      "fa63d302                  454                      1  \n",
      "e4eead07                  749                      3  \n",
      "82a9ffaa                   54                      1  \n",
      "40df955d                   89                      1  \n",
      "a2920c0b                  251                      2  \n",
      "\n",
      "[10 rows x 24 columns]\n"
     ]
    }
   ],
   "source": [
    "def train_xgb(config):\n",
    "    from metric import score  # Import your custom metric function\n",
    "\n",
    "    FOLDS = 10\n",
    "    kf = KFold(n_splits=FOLDS, shuffle=True, random_state=42)\n",
    "    \n",
    "    # Arrays to store out-of-fold predictions and test predictions (if test set is available)\n",
    "    oof_preds = np.zeros(len(train))\n",
    "    test_preds = np.zeros(len(test)) if \"test\" in globals() else None\n",
    "    \n",
    "    for i, (train_index, valid_index) in enumerate(kf.split(train)):\n",
    "        print(\"#\" * 25)\n",
    "        print(f\"### Fold {i+1}\")\n",
    "        print(\"#\" * 25)\n",
    "        \n",
    "        x_train = train.loc[train_index, FEATURES].copy()\n",
    "        y_train = train.loc[train_index, \"efs_time2\"]\n",
    "        x_valid = train.loc[valid_index, FEATURES].copy()\n",
    "        y_valid = train.loc[valid_index, \"efs_time2\"]\n",
    "\n",
    "        model = XGBRegressor(\n",
    "            device=\"cpu\",  # Use \"cpu\" if a GPU is not available\n",
    "            max_depth=config[\"max_depth\"],\n",
    "            learning_rate=config[\"learning_rate\"],\n",
    "            min_child_weight=config[\"min_child_weight\"],\n",
    "            subsample=config[\"subsample\"],\n",
    "            colsample_bytree=config[\"colsample_bytree\"],\n",
    "            gamma=config[\"gamma\"],\n",
    "            reg_lambda=config[\"reg_lambda\"],\n",
    "            reg_alpha=config[\"reg_alpha\"],\n",
    "            n_estimators=config[\"n_estimators\"],\n",
    "            enable_categorical=True,\n",
    "            max_delta_step=config[\"max_delta_step\"],\n",
    "            objective='survival:cox',\n",
    "            eval_metric='cox-nloglik',\n",
    "        )\n",
    "        # Set early stopping rounds\n",
    "        model.set_params(early_stopping_rounds=25)\n",
    "        \n",
    "        model.fit(\n",
    "            x_train, y_train,\n",
    "            eval_set=[(x_valid, y_valid)],\n",
    "            verbose=False\n",
    "        )\n",
    "        \n",
    "        # Store out-of-fold predictions for this fold\n",
    "        oof_preds[valid_index] = model.predict(x_valid)\n",
    "        \n",
    "        # If a test set is available, aggregate its predictions\n",
    "        if test_preds is not None:\n",
    "            x_test = test[FEATURES].copy()\n",
    "            test_preds += model.predict(x_test)\n",
    "    \n",
    "    # If test predictions are available, average them over the folds\n",
    "    if test_preds is not None:\n",
    "        test_preds /= FOLDS\n",
    "\n",
    "    # Prepare data for the overall CV metric computation\n",
    "    y_true = train[[\"ID\", \"efs\", \"efs_time\", \"race_group\"]].copy()\n",
    "    y_pred = train[[\"ID\"]].copy()\n",
    "    y_pred[\"prediction\"] = oof_preds\n",
    "\n",
    "    # Compute overall CV metric using the custom 'score' function\n",
    "    cv_metric = score(y_true.copy(), y_pred.copy(), \"ID\")\n",
    "    \n",
    "    # Report the overall CV metric to Ray Tune for optimization\n",
    "    tune.report({\"cv_metric\" : cv_metric})\n",
    "\n",
    "# Define hyperparameter search space using Ray Tune's API\n",
    "config = {\n",
    "    \"max_depth\": tune.randint(2, 11),\n",
    "    \"learning_rate\": tune.loguniform(0.001, 0.2),\n",
    "    \"min_child_weight\": tune.randint(1, 51),\n",
    "    \"subsample\": tune.uniform(0.4, 1.0),\n",
    "    \"colsample_bytree\": tune.uniform(0.2, 1.0),\n",
    "    \"gamma\": tune.uniform(0, 2),\n",
    "    \"reg_lambda\": tune.loguniform(1e-4, 100),\n",
    "    \"reg_alpha\": tune.loguniform(1e-4, 1),\n",
    "    \"n_estimators\": tune.randint(50, 3001),\n",
    "    \"max_delta_step\": tune.randint(0, 4)\n",
    "}\n",
    "\n",
    "# Create a HyperOptSearch instance specifying that we wish to maximize the cv_metric\n",
    "hyperopt_search = HyperOptSearch(metric=\"cv_metric\", mode=\"max\")\n",
    "\n",
    "# Run tuning with Ray Tune using HyperOpt as the search algorithm\n",
    "analysis = tune.run(\n",
    "    train_xgb,\n",
    "    search_alg=hyperopt_search,\n",
    "    config=config,\n",
    "    num_samples=10,\n",
    "    resources_per_trial=resources_per_trial,\n",
    "    trial_dirname_creator=lambda trial: f\"trial_{trial.trial_id}\",\n",
    "    verbose=1\n",
    ")\n",
    "\n",
    "# Retrieve the best configuration based on the overall CV metric (cv_metric)\n",
    "best_config = analysis.get_best_config(metric=\"cv_metric\", mode=\"max\")\n",
    "print(\"Best Hyperparameters:\", best_config)\n",
    "\n",
    "# Inspect all trial results\n",
    "results_df = analysis.results_df\n",
    "print(results_df)\n"
   ]
  }
 ],
 "metadata": {
  "kaggle": {
   "accelerator": "none",
   "dataSources": [
    {
     "databundleVersionId": 10381525,
     "sourceId": 70942,
     "sourceType": "competition"
    },
    {
     "sourceId": 211253469,
     "sourceType": "kernelVersion"
    },
    {
     "sourceId": 211322530,
     "sourceType": "kernelVersion"
    },
    {
     "sourceId": 222894251,
     "sourceType": "kernelVersion"
    }
   ],
   "dockerImageVersionId": 30805,
   "isGpuEnabled": false,
   "isInternetEnabled": false,
   "language": "python",
   "sourceType": "notebook"
  },
  "kernelspec": {
   "display_name": "Python 3",
   "language": "python",
   "name": "python3"
  },
  "language_info": {
   "codemirror_mode": {
    "name": "ipython",
    "version": 3
   },
   "file_extension": ".py",
   "mimetype": "text/x-python",
   "name": "python",
   "nbconvert_exporter": "python",
   "pygments_lexer": "ipython3",
   "version": "3.10.14"
  },
  "papermill": {
   "default_parameters": {},
   "duration": 1208.91191,
   "end_time": "2025-05-24T16:20:40.974629",
   "environment_variables": {},
   "exception": null,
   "input_path": "__notebook__.ipynb",
   "output_path": "__notebook__.ipynb",
   "parameters": {},
   "start_time": "2025-05-24T16:00:32.062719",
   "version": "2.6.0"
  },
  "widgets": {
   "application/vnd.jupyter.widget-state+json": {
    "state": {
     "1691bbac69fe4384b38e387719a58ad7": {
      "model_module": "@jupyter-widgets/controls",
      "model_module_version": "2.0.0",
      "model_name": "ButtonStyleModel",
      "state": {
       "_model_module": "@jupyter-widgets/controls",
       "_model_module_version": "2.0.0",
       "_model_name": "ButtonStyleModel",
       "_view_count": null,
       "_view_module": "@jupyter-widgets/base",
       "_view_module_version": "2.0.0",
       "_view_name": "StyleView",
       "button_color": null,
       "font_family": null,
       "font_size": null,
       "font_style": null,
       "font_variant": null,
       "font_weight": null,
       "text_color": null,
       "text_decoration": null
      }
     },
     "368cd5861b704a2bbed1b1e38377e614": {
      "model_module": "@jupyter-widgets/base",
      "model_module_version": "2.0.0",
      "model_name": "LayoutModel",
      "state": {
       "_model_module": "@jupyter-widgets/base",
       "_model_module_version": "2.0.0",
       "_model_name": "LayoutModel",
       "_view_count": null,
       "_view_module": "@jupyter-widgets/base",
       "_view_module_version": "2.0.0",
       "_view_name": "LayoutView",
       "align_content": null,
       "align_items": null,
       "align_self": null,
       "border_bottom": null,
       "border_left": null,
       "border_right": null,
       "border_top": null,
       "bottom": null,
       "display": null,
       "flex": null,
       "flex_flow": null,
       "grid_area": null,
       "grid_auto_columns": null,
       "grid_auto_flow": null,
       "grid_auto_rows": null,
       "grid_column": null,
       "grid_gap": null,
       "grid_row": null,
       "grid_template_areas": null,
       "grid_template_columns": null,
       "grid_template_rows": null,
       "height": null,
       "justify_content": null,
       "justify_items": null,
       "left": null,
       "margin": null,
       "max_height": null,
       "max_width": null,
       "min_height": null,
       "min_width": null,
       "object_fit": null,
       "object_position": null,
       "order": null,
       "overflow": null,
       "padding": null,
       "right": null,
       "top": null,
       "visibility": null,
       "width": "100%"
      }
     },
     "5540b98cd13b4c9084d04b89ecd3353a": {
      "model_module": "@jupyter-widgets/controls",
      "model_module_version": "2.0.0",
      "model_name": "HTMLStyleModel",
      "state": {
       "_model_module": "@jupyter-widgets/controls",
       "_model_module_version": "2.0.0",
       "_model_name": "HTMLStyleModel",
       "_view_count": null,
       "_view_module": "@jupyter-widgets/base",
       "_view_module_version": "2.0.0",
       "_view_name": "StyleView",
       "background": null,
       "description_width": "",
       "font_size": null,
       "text_color": null
      }
     },
     "56239c7dbb354aafb8e354a345e91eda": {
      "model_module": "@jupyter-widgets/base",
      "model_module_version": "2.0.0",
      "model_name": "LayoutModel",
      "state": {
       "_model_module": "@jupyter-widgets/base",
       "_model_module_version": "2.0.0",
       "_model_name": "LayoutModel",
       "_view_count": null,
       "_view_module": "@jupyter-widgets/base",
       "_view_module_version": "2.0.0",
       "_view_name": "LayoutView",
       "align_content": null,
       "align_items": null,
       "align_self": null,
       "border_bottom": null,
       "border_left": null,
       "border_right": null,
       "border_top": null,
       "bottom": null,
       "display": null,
       "flex": null,
       "flex_flow": null,
       "grid_area": null,
       "grid_auto_columns": null,
       "grid_auto_flow": null,
       "grid_auto_rows": null,
       "grid_column": null,
       "grid_gap": null,
       "grid_row": null,
       "grid_template_areas": null,
       "grid_template_columns": null,
       "grid_template_rows": null,
       "height": null,
       "justify_content": null,
       "justify_items": null,
       "left": null,
       "margin": "auto 0px 0px 0px",
       "max_height": null,
       "max_width": null,
       "min_height": null,
       "min_width": null,
       "object_fit": null,
       "object_position": null,
       "order": null,
       "overflow": null,
       "padding": null,
       "right": null,
       "top": null,
       "visibility": null,
       "width": null
      }
     },
     "5c774ab4b36b4a51a2a8bf64e09045e0": {
      "model_module": "@jupyter-widgets/base",
      "model_module_version": "2.0.0",
      "model_name": "LayoutModel",
      "state": {
       "_model_module": "@jupyter-widgets/base",
       "_model_module_version": "2.0.0",
       "_model_name": "LayoutModel",
       "_view_count": null,
       "_view_module": "@jupyter-widgets/base",
       "_view_module_version": "2.0.0",
       "_view_name": "LayoutView",
       "align_content": null,
       "align_items": null,
       "align_self": null,
       "border_bottom": null,
       "border_left": null,
       "border_right": null,
       "border_top": null,
       "bottom": null,
       "display": null,
       "flex": null,
       "flex_flow": null,
       "grid_area": null,
       "grid_auto_columns": null,
       "grid_auto_flow": null,
       "grid_auto_rows": null,
       "grid_column": null,
       "grid_gap": null,
       "grid_row": null,
       "grid_template_areas": null,
       "grid_template_columns": null,
       "grid_template_rows": null,
       "height": null,
       "justify_content": null,
       "justify_items": null,
       "left": null,
       "margin": null,
       "max_height": null,
       "max_width": null,
       "min_height": null,
       "min_width": null,
       "object_fit": null,
       "object_position": null,
       "order": null,
       "overflow": null,
       "padding": null,
       "right": null,
       "top": null,
       "visibility": null,
       "width": null
      }
     },
     "62b56aa53b00446fac5dba0f2cce6db9": {
      "model_module": "@jupyter-widgets/controls",
      "model_module_version": "2.0.0",
      "model_name": "ButtonModel",
      "state": {
       "_dom_classes": [],
       "_model_module": "@jupyter-widgets/controls",
       "_model_module_version": "2.0.0",
       "_model_name": "ButtonModel",
       "_view_count": null,
       "_view_module": "@jupyter-widgets/controls",
       "_view_module_version": "2.0.0",
       "_view_name": "ButtonView",
       "button_style": "",
       "description": "Disconnect",
       "disabled": false,
       "icon": "",
       "layout": "IPY_MODEL_56239c7dbb354aafb8e354a345e91eda",
       "style": "IPY_MODEL_1691bbac69fe4384b38e387719a58ad7",
       "tabbable": null,
       "tooltip": "Disconnect from the Ray cluster"
      }
     },
     "8868fe832b93461499ae99b1aeabd98a": {
      "model_module": "@jupyter-widgets/base",
      "model_module_version": "2.0.0",
      "model_name": "LayoutModel",
      "state": {
       "_model_module": "@jupyter-widgets/base",
       "_model_module_version": "2.0.0",
       "_model_name": "LayoutModel",
       "_view_count": null,
       "_view_module": "@jupyter-widgets/base",
       "_view_module_version": "2.0.0",
       "_view_name": "LayoutView",
       "align_content": null,
       "align_items": null,
       "align_self": null,
       "border_bottom": null,
       "border_left": null,
       "border_right": null,
       "border_top": null,
       "bottom": null,
       "display": null,
       "flex": null,
       "flex_flow": null,
       "grid_area": null,
       "grid_auto_columns": null,
       "grid_auto_flow": null,
       "grid_auto_rows": null,
       "grid_column": null,
       "grid_gap": null,
       "grid_row": null,
       "grid_template_areas": null,
       "grid_template_columns": null,
       "grid_template_rows": null,
       "height": null,
       "justify_content": null,
       "justify_items": null,
       "left": null,
       "margin": null,
       "max_height": null,
       "max_width": null,
       "min_height": null,
       "min_width": null,
       "object_fit": null,
       "object_position": null,
       "order": null,
       "overflow": null,
       "padding": null,
       "right": null,
       "top": null,
       "visibility": null,
       "width": null
      }
     },
     "a382020c242642a69a981e2cf69e471a": {
      "model_module": "@jupyter-widgets/base",
      "model_module_version": "2.0.0",
      "model_name": "LayoutModel",
      "state": {
       "_model_module": "@jupyter-widgets/base",
       "_model_module_version": "2.0.0",
       "_model_name": "LayoutModel",
       "_view_count": null,
       "_view_module": "@jupyter-widgets/base",
       "_view_module_version": "2.0.0",
       "_view_name": "LayoutView",
       "align_content": null,
       "align_items": null,
       "align_self": null,
       "border_bottom": null,
       "border_left": null,
       "border_right": null,
       "border_top": null,
       "bottom": null,
       "display": null,
       "flex": null,
       "flex_flow": null,
       "grid_area": null,
       "grid_auto_columns": null,
       "grid_auto_flow": null,
       "grid_auto_rows": null,
       "grid_column": null,
       "grid_gap": null,
       "grid_row": null,
       "grid_template_areas": null,
       "grid_template_columns": null,
       "grid_template_rows": null,
       "height": null,
       "justify_content": null,
       "justify_items": null,
       "left": null,
       "margin": null,
       "max_height": null,
       "max_width": null,
       "min_height": null,
       "min_width": null,
       "object_fit": null,
       "object_position": null,
       "order": null,
       "overflow": null,
       "padding": null,
       "right": null,
       "top": null,
       "visibility": null,
       "width": null
      }
     },
     "ca574456aa354b8b86ca85bc0470d153": {
      "model_module": "@jupyter-widgets/controls",
      "model_module_version": "2.0.0",
      "model_name": "HTMLStyleModel",
      "state": {
       "_model_module": "@jupyter-widgets/controls",
       "_model_module_version": "2.0.0",
       "_model_name": "HTMLStyleModel",
       "_view_count": null,
       "_view_module": "@jupyter-widgets/base",
       "_view_module_version": "2.0.0",
       "_view_name": "StyleView",
       "background": null,
       "description_width": "",
       "font_size": null,
       "text_color": null
      }
     },
     "d1c6a7801f5d4b9f82a7d2697991aa1f": {
      "model_module": "@jupyter-widgets/controls",
      "model_module_version": "2.0.0",
      "model_name": "HTMLModel",
      "state": {
       "_dom_classes": [],
       "_model_module": "@jupyter-widgets/controls",
       "_model_module_version": "2.0.0",
       "_model_name": "HTMLModel",
       "_view_count": null,
       "_view_module": "@jupyter-widgets/controls",
       "_view_module_version": "2.0.0",
       "_view_name": "HTMLView",
       "description": "",
       "description_allow_html": false,
       "layout": "IPY_MODEL_a382020c242642a69a981e2cf69e471a",
       "placeholder": "​",
       "style": "IPY_MODEL_ca574456aa354b8b86ca85bc0470d153",
       "tabbable": null,
       "tooltip": null,
       "value": "<div class=\"jp-RenderedHTMLCommon\" style=\"display: flex; flex-direction: row;\">\n  <svg viewBox=\"0 0 567 224\" fill=\"none\" xmlns=\"http://www.w3.org/2000/svg\" style=\"height: 3em;\">\n    <g clip-path=\"url(#clip0_4338_178347)\">\n        <path d=\"M341.29 165.561H355.29L330.13 129.051C345.63 123.991 354.21 112.051 354.21 94.2307C354.21 71.3707 338.72 58.1807 311.88 58.1807H271V165.561H283.27V131.661H311.8C314.25 131.661 316.71 131.501 319.01 131.351L341.25 165.561H341.29ZM283.29 119.851V70.0007H311.82C331.3 70.0007 342.34 78.2907 342.34 94.5507C342.34 111.271 331.34 119.861 311.82 119.861L283.29 119.851ZM451.4 138.411L463.4 165.561H476.74L428.74 58.1807H416L367.83 165.561H380.83L392.83 138.411H451.4ZM446.19 126.601H398L422 72.1407L446.24 126.601H446.19ZM526.11 128.741L566.91 58.1807H554.35L519.99 114.181L485.17 58.1807H472.44L514.01 129.181V165.541H526.13V128.741H526.11Z\" fill=\"var(--jp-ui-font-color0)\"/>\n        <path d=\"M82.35 104.44C84.0187 97.8827 87.8248 92.0678 93.1671 87.9146C98.5094 83.7614 105.083 81.5067 111.85 81.5067C118.617 81.5067 125.191 83.7614 130.533 87.9146C135.875 92.0678 139.681 97.8827 141.35 104.44H163.75C164.476 101.562 165.622 98.8057 167.15 96.2605L127.45 56.5605C121.071 60.3522 113.526 61.6823 106.235 60.3005C98.9443 58.9187 92.4094 54.9203 87.8602 49.0574C83.3109 43.1946 81.0609 35.8714 81.5332 28.4656C82.0056 21.0599 85.1679 14.0819 90.4252 8.8446C95.6824 3.60726 102.672 0.471508 110.08 0.0272655C117.487 -0.416977 124.802 1.86091 130.647 6.4324C136.493 11.0039 140.467 17.5539 141.821 24.8501C143.175 32.1463 141.816 39.6859 138 46.0505L177.69 85.7505C182.31 82.9877 187.58 81.4995 192.962 81.4375C198.345 81.3755 203.648 82.742 208.33 85.3976C213.012 88.0532 216.907 91.9029 219.616 96.5544C222.326 101.206 223.753 106.492 223.753 111.875C223.753 117.258 222.326 122.545 219.616 127.197C216.907 131.848 213.012 135.698 208.33 138.353C203.648 141.009 198.345 142.375 192.962 142.313C187.58 142.251 182.31 140.763 177.69 138L138 177.7C141.808 184.071 143.155 191.614 141.79 198.91C140.424 206.205 136.44 212.75 130.585 217.313C124.731 221.875 117.412 224.141 110.004 223.683C102.596 223.226 95.6103 220.077 90.3621 214.828C85.1139 209.58 81.9647 202.595 81.5072 195.187C81.0497 187.779 83.3154 180.459 87.878 174.605C92.4405 168.751 98.9853 164.766 106.281 163.401C113.576 162.035 121.119 163.383 127.49 167.19L167.19 127.49C165.664 124.941 164.518 122.182 163.79 119.3H141.39C139.721 125.858 135.915 131.673 130.573 135.826C125.231 139.98 118.657 142.234 111.89 142.234C105.123 142.234 98.5494 139.98 93.2071 135.826C87.8648 131.673 84.0587 125.858 82.39 119.3H60C58.1878 126.495 53.8086 132.78 47.6863 136.971C41.5641 141.163 34.1211 142.972 26.7579 142.059C19.3947 141.146 12.6191 137.574 7.70605 132.014C2.79302 126.454 0.0813599 119.29 0.0813599 111.87C0.0813599 104.451 2.79302 97.2871 7.70605 91.7272C12.6191 86.1673 19.3947 82.5947 26.7579 81.6817C34.1211 80.7686 41.5641 82.5781 47.6863 86.7696C53.8086 90.9611 58.1878 97.2456 60 104.44H82.35ZM100.86 204.32C103.407 206.868 106.759 208.453 110.345 208.806C113.93 209.159 117.527 208.258 120.522 206.256C123.517 204.254 125.725 201.276 126.771 197.828C127.816 194.38 127.633 190.677 126.253 187.349C124.874 184.021 122.383 181.274 119.205 179.577C116.027 177.88 112.359 177.337 108.826 178.042C105.293 178.746 102.113 180.654 99.8291 183.44C97.5451 186.226 96.2979 189.718 96.3 193.32C96.2985 195.364 96.7006 197.388 97.4831 199.275C98.2656 201.163 99.4132 202.877 100.86 204.32ZM204.32 122.88C206.868 120.333 208.453 116.981 208.806 113.396C209.159 109.811 208.258 106.214 206.256 103.219C204.254 100.223 201.275 98.0151 197.827 96.97C194.38 95.9249 190.676 96.1077 187.348 97.4873C184.02 98.8669 181.274 101.358 179.577 104.536C177.879 107.714 177.337 111.382 178.041 114.915C178.746 118.448 180.653 121.627 183.439 123.911C186.226 126.195 189.717 127.443 193.32 127.44C195.364 127.443 197.388 127.042 199.275 126.259C201.163 125.476 202.878 124.328 204.32 122.88ZM122.88 19.4205C120.333 16.8729 116.981 15.2876 113.395 14.9347C109.81 14.5817 106.213 15.483 103.218 17.4849C100.223 19.4868 98.0146 22.4654 96.9696 25.9131C95.9245 29.3608 96.1073 33.0642 97.4869 36.3922C98.8665 39.7202 101.358 42.4668 104.535 44.1639C107.713 45.861 111.381 46.4036 114.914 45.6992C118.447 44.9949 121.627 43.0871 123.911 40.301C126.195 37.515 127.442 34.0231 127.44 30.4205C127.44 28.3772 127.038 26.3539 126.255 24.4664C125.473 22.5788 124.326 20.8642 122.88 19.4205ZM19.42 100.86C16.8725 103.408 15.2872 106.76 14.9342 110.345C14.5813 113.93 15.4826 117.527 17.4844 120.522C19.4863 123.518 22.4649 125.726 25.9127 126.771C29.3604 127.816 33.0638 127.633 36.3918 126.254C39.7198 124.874 42.4664 122.383 44.1635 119.205C45.8606 116.027 46.4032 112.359 45.6988 108.826C44.9944 105.293 43.0866 102.114 40.3006 99.8296C37.5145 97.5455 34.0227 96.2983 30.42 96.3005C26.2938 96.3018 22.337 97.9421 19.42 100.86ZM100.86 100.86C98.3125 103.408 96.7272 106.76 96.3742 110.345C96.0213 113.93 96.9226 117.527 98.9244 120.522C100.926 123.518 103.905 125.726 107.353 126.771C110.8 127.816 114.504 127.633 117.832 126.254C121.16 124.874 123.906 122.383 125.604 119.205C127.301 116.027 127.843 112.359 127.139 108.826C126.434 105.293 124.527 102.114 121.741 99.8296C118.955 97.5455 115.463 96.2983 111.86 96.3005C109.817 96.299 107.793 96.701 105.905 97.4835C104.018 98.2661 102.303 99.4136 100.86 100.86Z\" fill=\"#00AEEF\"/>\n    </g>\n    <defs>\n        <clipPath id=\"clip0_4338_178347\">\n            <rect width=\"566.93\" height=\"223.75\" fill=\"white\"/>\n        </clipPath>\n    </defs>\n  </svg>\n</div>\n"
      }
     },
     "dbbb062b64dd43a482fbb397f64ed205": {
      "model_module": "@jupyter-widgets/controls",
      "model_module_version": "2.0.0",
      "model_name": "HBoxModel",
      "state": {
       "_dom_classes": [],
       "_model_module": "@jupyter-widgets/controls",
       "_model_module_version": "2.0.0",
       "_model_name": "HBoxModel",
       "_view_count": null,
       "_view_module": "@jupyter-widgets/controls",
       "_view_module_version": "2.0.0",
       "_view_name": "HBoxView",
       "box_style": "",
       "children": [
        "IPY_MODEL_e156cbdfd00c46aab0a1921af5e1843b",
        "IPY_MODEL_e654034c61504a68a5d8838e415e6a79"
       ],
       "layout": "IPY_MODEL_368cd5861b704a2bbed1b1e38377e614",
       "tabbable": null,
       "tooltip": null
      }
     },
     "e156cbdfd00c46aab0a1921af5e1843b": {
      "model_module": "@jupyter-widgets/controls",
      "model_module_version": "2.0.0",
      "model_name": "VBoxModel",
      "state": {
       "_dom_classes": [],
       "_model_module": "@jupyter-widgets/controls",
       "_model_module_version": "2.0.0",
       "_model_name": "VBoxModel",
       "_view_count": null,
       "_view_module": "@jupyter-widgets/controls",
       "_view_module_version": "2.0.0",
       "_view_name": "VBoxView",
       "box_style": "",
       "children": [
        "IPY_MODEL_d1c6a7801f5d4b9f82a7d2697991aa1f",
        "IPY_MODEL_62b56aa53b00446fac5dba0f2cce6db9"
       ],
       "layout": "IPY_MODEL_8868fe832b93461499ae99b1aeabd98a",
       "tabbable": null,
       "tooltip": null
      }
     },
     "e654034c61504a68a5d8838e415e6a79": {
      "model_module": "@jupyter-widgets/controls",
      "model_module_version": "2.0.0",
      "model_name": "HTMLModel",
      "state": {
       "_dom_classes": [],
       "_model_module": "@jupyter-widgets/controls",
       "_model_module_version": "2.0.0",
       "_model_name": "HTMLModel",
       "_view_count": null,
       "_view_module": "@jupyter-widgets/controls",
       "_view_module_version": "2.0.0",
       "_view_name": "HTMLView",
       "description": "",
       "description_allow_html": false,
       "layout": "IPY_MODEL_5c774ab4b36b4a51a2a8bf64e09045e0",
       "placeholder": "​",
       "style": "IPY_MODEL_5540b98cd13b4c9084d04b89ecd3353a",
       "tabbable": null,
       "tooltip": null,
       "value": "<table class=\"jp-RenderedHTMLCommon\" style=\"border-collapse: collapse;color: var(--jp-ui-font-color1);font-size: var(--jp-ui-font-size1);\">\n    <tr>\n        <td style=\"text-align: left\"><b>Python version:</b></td>\n        <td style=\"text-align: left\"><b>3.10.14</b></td>\n    </tr>\n    <tr>\n        <td style=\"text-align: left\"><b>Ray version:</b></td>\n        <td style=\"text-align: left\"><b>2.42.1</b></td>\n    </tr>\n    \n</table>\n"
      }
     }
    },
    "version_major": 2,
    "version_minor": 0
   }
  }
 },
 "nbformat": 4,
 "nbformat_minor": 5
}
